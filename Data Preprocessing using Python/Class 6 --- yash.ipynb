{
 "cells": [
  {
   "cell_type": "markdown",
   "id": "deb3f045",
   "metadata": {},
   "source": [
    "https://medium.com/@hello_5579/what-are-semi-anti-and-natural-joins-in-sql-82b94d08c11e\n",
    "\n",
    "https://medium.com/@hello_5579/you-will-never-use-pandas-describe-method-after-using-these-two-libraries-e29aca1488d1"
   ]
  },
  {
   "cell_type": "code",
   "execution_count": 83,
   "id": "711081f3",
   "metadata": {},
   "outputs": [],
   "source": [
    "import statistics"
   ]
  },
  {
   "cell_type": "code",
   "execution_count": 84,
   "id": "458d7324",
   "metadata": {},
   "outputs": [],
   "source": [
    "data = [1,2,3,4,5,6,7,8,9,3,3,3,3,3,3]"
   ]
  },
  {
   "cell_type": "code",
   "execution_count": 85,
   "id": "5017a70d",
   "metadata": {},
   "outputs": [],
   "source": [
    "mean = statistics.mean(data)"
   ]
  },
  {
   "cell_type": "code",
   "execution_count": 86,
   "id": "b9309fb0",
   "metadata": {},
   "outputs": [
    {
     "data": {
      "text/plain": [
       "4.2"
      ]
     },
     "execution_count": 86,
     "metadata": {},
     "output_type": "execute_result"
    }
   ],
   "source": [
    "mean"
   ]
  },
  {
   "cell_type": "code",
   "execution_count": 87,
   "id": "4880aeba",
   "metadata": {},
   "outputs": [],
   "source": [
    "median  = statistics.median(data)"
   ]
  },
  {
   "cell_type": "code",
   "execution_count": 88,
   "id": "d533b3c1",
   "metadata": {},
   "outputs": [
    {
     "data": {
      "text/plain": [
       "3"
      ]
     },
     "execution_count": 88,
     "metadata": {},
     "output_type": "execute_result"
    }
   ],
   "source": [
    "median"
   ]
  },
  {
   "cell_type": "code",
   "execution_count": 89,
   "id": "d78ecd60",
   "metadata": {},
   "outputs": [],
   "source": [
    "mode = statistics.mode(data)"
   ]
  },
  {
   "cell_type": "code",
   "execution_count": 90,
   "id": "364f2a8c",
   "metadata": {},
   "outputs": [
    {
     "data": {
      "text/plain": [
       "array([ 1,  2,  3, 44,  5,  5,  6,  6,  6,  6,  6])"
      ]
     },
     "execution_count": 90,
     "metadata": {},
     "output_type": "execute_result"
    }
   ],
   "source": [
    "import numpy as np\n",
    "d = np.array([1,2,3,44,5,5,6,6,6,6,6])\n",
    "d"
   ]
  },
  {
   "cell_type": "code",
   "execution_count": 91,
   "id": "5e3d2857",
   "metadata": {},
   "outputs": [],
   "source": [
    "# 1 way of cal. std_deviation ---- recommended way\n",
    "std = np.std(d)"
   ]
  },
  {
   "cell_type": "code",
   "execution_count": 92,
   "id": "728b370d",
   "metadata": {},
   "outputs": [
    {
     "data": {
      "text/plain": [
       "11.4559883651079"
      ]
     },
     "execution_count": 92,
     "metadata": {},
     "output_type": "execute_result"
    }
   ],
   "source": [
    "std"
   ]
  },
  {
   "cell_type": "code",
   "execution_count": 93,
   "id": "b9990a76",
   "metadata": {},
   "outputs": [
    {
     "data": {
      "text/plain": [
       "2.305273457593635"
      ]
     },
     "execution_count": 93,
     "metadata": {},
     "output_type": "execute_result"
    }
   ],
   "source": [
    "# 2nd way of calculating std. deviation\n",
    "std_2 = statistics.stdev(data)\n",
    "std_2"
   ]
  },
  {
   "cell_type": "code",
   "execution_count": 94,
   "id": "d05a1dcf",
   "metadata": {},
   "outputs": [],
   "source": [
    "from scipy import stats"
   ]
  },
  {
   "cell_type": "code",
   "execution_count": 95,
   "id": "0dbdd37e",
   "metadata": {},
   "outputs": [
    {
     "data": {
      "text/plain": [
       "[1, 2, 3, 4, 5, 6, 7, 8, 3, 3, 3, 3]"
      ]
     },
     "execution_count": 95,
     "metadata": {},
     "output_type": "execute_result"
    }
   ],
   "source": [
    "data = [1,2,3,4,5,6,7,8,3,3,3,3]\n",
    "data"
   ]
  },
  {
   "cell_type": "code",
   "execution_count": 96,
   "id": "50df0bd5",
   "metadata": {},
   "outputs": [
    {
     "name": "stderr",
     "output_type": "stream",
     "text": [
      "C:\\Users\\ACER\\AppData\\Local\\Temp\\ipykernel_11480\\2117313215.py:1: FutureWarning: Unlike other reduction functions (e.g. `skew`, `kurtosis`), the default behavior of `mode` typically preserves the axis it acts along. In SciPy 1.11.0, this behavior will change: the default value of `keepdims` will become False, the `axis` over which the statistic is taken will be eliminated, and the value None will no longer be accepted. Set `keepdims` to True or False to avoid this warning.\n",
      "  mode = stats.mode(data)\n"
     ]
    },
    {
     "data": {
      "text/plain": [
       "ModeResult(mode=array([3]), count=array([5]))"
      ]
     },
     "execution_count": 96,
     "metadata": {},
     "output_type": "execute_result"
    }
   ],
   "source": [
    "mode = stats.mode(data)\n",
    "mode"
   ]
  },
  {
   "cell_type": "code",
   "execution_count": 97,
   "id": "8fd02851",
   "metadata": {},
   "outputs": [],
   "source": [
    "data = np.array([1,2,3,4,5,6,7,7])"
   ]
  },
  {
   "cell_type": "code",
   "execution_count": 98,
   "id": "d56b7e82",
   "metadata": {},
   "outputs": [],
   "source": [
    "# Skewness of data\n",
    "def calculate_skewness(data):\n",
    "    n = len(data)\n",
    "    mean = np.mean(data)\n",
    "    std_dev = np.std(data, ddof=1)  # ddof=1 for sample standard deviation\n",
    "\n",
    "    numerator = np.sum((data - mean) ** 3) / n\n",
    "    denominator = std_dev ** 3\n",
    "\n",
    "    skewness = numerator / denominator\n",
    "    return skewness"
   ]
  },
  {
   "cell_type": "code",
   "execution_count": 99,
   "id": "9d510e79",
   "metadata": {},
   "outputs": [
    {
     "data": {
      "text/plain": [
       "-0.14847653353355889"
      ]
     },
     "execution_count": 99,
     "metadata": {},
     "output_type": "execute_result"
    }
   ],
   "source": [
    "calculate_skewness(data)"
   ]
  },
  {
   "cell_type": "code",
   "execution_count": 100,
   "id": "07abfb7a",
   "metadata": {},
   "outputs": [],
   "source": [
    "# skewness\n",
    "\n",
    "skewness = np.mean((data - np.mean(data))**3)/ np.std(data)**3"
   ]
  },
  {
   "cell_type": "code",
   "execution_count": 101,
   "id": "b70f0870",
   "metadata": {},
   "outputs": [
    {
     "data": {
      "text/plain": [
       "-0.18140353255785455"
      ]
     },
     "execution_count": 101,
     "metadata": {},
     "output_type": "execute_result"
    }
   ],
   "source": [
    "skewness"
   ]
  },
  {
   "cell_type": "code",
   "execution_count": 102,
   "id": "97930364",
   "metadata": {},
   "outputs": [],
   "source": [
    "from scipy.stats import skew"
   ]
  },
  {
   "cell_type": "code",
   "execution_count": 103,
   "id": "4b7717da",
   "metadata": {},
   "outputs": [],
   "source": [
    "data = [1,2,2,3,3,3,4,4,5]"
   ]
  },
  {
   "cell_type": "code",
   "execution_count": 104,
   "id": "a529b76c",
   "metadata": {},
   "outputs": [],
   "source": [
    "# recommended way\n",
    "skewness = skew(data)"
   ]
  },
  {
   "cell_type": "code",
   "execution_count": 105,
   "id": "0434c65b",
   "metadata": {},
   "outputs": [
    {
     "data": {
      "text/plain": [
       "0.0"
      ]
     },
     "execution_count": 105,
     "metadata": {},
     "output_type": "execute_result"
    }
   ],
   "source": [
    "skewness"
   ]
  },
  {
   "cell_type": "code",
   "execution_count": 106,
   "id": "f3df857a",
   "metadata": {},
   "outputs": [],
   "source": [
    "# 3rd way\n",
    "\n",
    "import pandas as pd"
   ]
  },
  {
   "cell_type": "code",
   "execution_count": 107,
   "id": "9479848a",
   "metadata": {},
   "outputs": [],
   "source": [
    "df = pd.DataFrame({'data':[1,2,2,3,3,3,4,4,5]})"
   ]
  },
  {
   "cell_type": "code",
   "execution_count": 108,
   "id": "8b9878d4",
   "metadata": {},
   "outputs": [
    {
     "data": {
      "text/html": [
       "<div>\n",
       "<style scoped>\n",
       "    .dataframe tbody tr th:only-of-type {\n",
       "        vertical-align: middle;\n",
       "    }\n",
       "\n",
       "    .dataframe tbody tr th {\n",
       "        vertical-align: top;\n",
       "    }\n",
       "\n",
       "    .dataframe thead th {\n",
       "        text-align: right;\n",
       "    }\n",
       "</style>\n",
       "<table border=\"1\" class=\"dataframe\">\n",
       "  <thead>\n",
       "    <tr style=\"text-align: right;\">\n",
       "      <th></th>\n",
       "      <th>data</th>\n",
       "    </tr>\n",
       "  </thead>\n",
       "  <tbody>\n",
       "    <tr>\n",
       "      <th>0</th>\n",
       "      <td>1</td>\n",
       "    </tr>\n",
       "    <tr>\n",
       "      <th>1</th>\n",
       "      <td>2</td>\n",
       "    </tr>\n",
       "    <tr>\n",
       "      <th>2</th>\n",
       "      <td>2</td>\n",
       "    </tr>\n",
       "    <tr>\n",
       "      <th>3</th>\n",
       "      <td>3</td>\n",
       "    </tr>\n",
       "    <tr>\n",
       "      <th>4</th>\n",
       "      <td>3</td>\n",
       "    </tr>\n",
       "    <tr>\n",
       "      <th>5</th>\n",
       "      <td>3</td>\n",
       "    </tr>\n",
       "    <tr>\n",
       "      <th>6</th>\n",
       "      <td>4</td>\n",
       "    </tr>\n",
       "    <tr>\n",
       "      <th>7</th>\n",
       "      <td>4</td>\n",
       "    </tr>\n",
       "    <tr>\n",
       "      <th>8</th>\n",
       "      <td>5</td>\n",
       "    </tr>\n",
       "  </tbody>\n",
       "</table>\n",
       "</div>"
      ],
      "text/plain": [
       "   data\n",
       "0     1\n",
       "1     2\n",
       "2     2\n",
       "3     3\n",
       "4     3\n",
       "5     3\n",
       "6     4\n",
       "7     4\n",
       "8     5"
      ]
     },
     "execution_count": 108,
     "metadata": {},
     "output_type": "execute_result"
    }
   ],
   "source": [
    "df"
   ]
  },
  {
   "cell_type": "code",
   "execution_count": 109,
   "id": "6cf942e2",
   "metadata": {},
   "outputs": [
    {
     "data": {
      "text/plain": [
       "0.0"
      ]
     },
     "execution_count": 109,
     "metadata": {},
     "output_type": "execute_result"
    }
   ],
   "source": [
    "# Recommended\n",
    "df['data'].skew()"
   ]
  },
  {
   "cell_type": "code",
   "execution_count": 110,
   "id": "427c4bf0",
   "metadata": {},
   "outputs": [],
   "source": [
    "import statsmodels.api as sm"
   ]
  },
  {
   "cell_type": "code",
   "execution_count": 111,
   "id": "1e72721b",
   "metadata": {},
   "outputs": [],
   "source": [
    "data = np.array([1,2,2,3,3,4,4,5,50])"
   ]
  },
  {
   "cell_type": "code",
   "execution_count": 112,
   "id": "c40e90ab",
   "metadata": {},
   "outputs": [
    {
     "data": {
      "text/plain": [
       "array([ 1,  2,  2,  3,  3,  4,  4,  5, 50])"
      ]
     },
     "execution_count": 112,
     "metadata": {},
     "output_type": "execute_result"
    }
   ],
   "source": [
    "data"
   ]
  },
  {
   "cell_type": "code",
   "execution_count": 113,
   "id": "13b726f1",
   "metadata": {},
   "outputs": [],
   "source": [
    "from statsmodels.stats.stattools import medcouple\n",
    "\n",
    "skewness = medcouple(data)"
   ]
  },
  {
   "cell_type": "code",
   "execution_count": 114,
   "id": "720fa594",
   "metadata": {},
   "outputs": [
    {
     "data": {
      "text/plain": [
       "array(0.)"
      ]
     },
     "execution_count": 114,
     "metadata": {},
     "output_type": "execute_result"
    }
   ],
   "source": [
    "skewness"
   ]
  },
  {
   "cell_type": "code",
   "execution_count": 115,
   "id": "a89eac64",
   "metadata": {},
   "outputs": [],
   "source": [
    "#if medcouple > 0 (right skewed) -- long right tail\n",
    "\n",
    "#if m < 0 --- left skewed\n",
    "\n",
    "#if m = o the data is symmetric"
   ]
  },
  {
   "cell_type": "code",
   "execution_count": 116,
   "id": "bf3d245a",
   "metadata": {},
   "outputs": [],
   "source": [
    "# Kurotosis\n",
    "\n",
    "#if k>0 heavier tails (Presence of outliers)\n",
    "\n",
    "#if k < 0 lighter tails (outliers)\n",
    "\n",
    "#if k = 0 (Normal distributions)"
   ]
  },
  {
   "cell_type": "code",
   "execution_count": 117,
   "id": "b2ff61c8",
   "metadata": {},
   "outputs": [],
   "source": [
    "data = np.array([1,2,2,3,3,4,4,5,50])"
   ]
  },
  {
   "cell_type": "code",
   "execution_count": 118,
   "id": "c303ccac",
   "metadata": {},
   "outputs": [
    {
     "data": {
      "text/plain": [
       "4.043315981734007"
      ]
     },
     "execution_count": 118,
     "metadata": {},
     "output_type": "execute_result"
    }
   ],
   "source": [
    "stats.kurtosis(data)"
   ]
  },
  {
   "cell_type": "code",
   "execution_count": 119,
   "id": "0222b5e9",
   "metadata": {},
   "outputs": [],
   "source": [
    "# another way\n",
    "\n",
    "def calculate_kurtosis(data):\n",
    "    n = len(data)\n",
    "    mean = np.mean(data)\n",
    "    variance = np.var(data, ddof=1)  # ddof=1 for sample variance\n",
    "\n",
    "    numerator = np.sum((data - mean) ** 4) / n\n",
    "    denominator = variance ** 2\n",
    "\n",
    "    kurtosis = numerator / denominator - 3\n",
    "    return kurtosis\n"
   ]
  },
  {
   "cell_type": "code",
   "execution_count": 120,
   "id": "008afac3",
   "metadata": {},
   "outputs": [],
   "source": [
    "# Creating a DataFrame with two columns, x and y\n",
    "\n",
    "data = {'x': [1, 2, 3, 4, 5],\n",
    "\n",
    "        'y': [5, 4, 3, 2, 1]}\n",
    "\n",
    "df = pd.DataFrame(data)"
   ]
  },
  {
   "cell_type": "code",
   "execution_count": 121,
   "id": "cca85deb",
   "metadata": {},
   "outputs": [
    {
     "data": {
      "text/html": [
       "<div>\n",
       "<style scoped>\n",
       "    .dataframe tbody tr th:only-of-type {\n",
       "        vertical-align: middle;\n",
       "    }\n",
       "\n",
       "    .dataframe tbody tr th {\n",
       "        vertical-align: top;\n",
       "    }\n",
       "\n",
       "    .dataframe thead th {\n",
       "        text-align: right;\n",
       "    }\n",
       "</style>\n",
       "<table border=\"1\" class=\"dataframe\">\n",
       "  <thead>\n",
       "    <tr style=\"text-align: right;\">\n",
       "      <th></th>\n",
       "      <th>x</th>\n",
       "      <th>y</th>\n",
       "    </tr>\n",
       "  </thead>\n",
       "  <tbody>\n",
       "    <tr>\n",
       "      <th>0</th>\n",
       "      <td>1</td>\n",
       "      <td>5</td>\n",
       "    </tr>\n",
       "    <tr>\n",
       "      <th>1</th>\n",
       "      <td>2</td>\n",
       "      <td>4</td>\n",
       "    </tr>\n",
       "    <tr>\n",
       "      <th>2</th>\n",
       "      <td>3</td>\n",
       "      <td>3</td>\n",
       "    </tr>\n",
       "    <tr>\n",
       "      <th>3</th>\n",
       "      <td>4</td>\n",
       "      <td>2</td>\n",
       "    </tr>\n",
       "    <tr>\n",
       "      <th>4</th>\n",
       "      <td>5</td>\n",
       "      <td>1</td>\n",
       "    </tr>\n",
       "  </tbody>\n",
       "</table>\n",
       "</div>"
      ],
      "text/plain": [
       "   x  y\n",
       "0  1  5\n",
       "1  2  4\n",
       "2  3  3\n",
       "3  4  2\n",
       "4  5  1"
      ]
     },
     "execution_count": 121,
     "metadata": {},
     "output_type": "execute_result"
    }
   ],
   "source": [
    "df"
   ]
  },
  {
   "cell_type": "code",
   "execution_count": 122,
   "id": "946b6afc",
   "metadata": {},
   "outputs": [],
   "source": [
    "# Correlationship and covariance\n",
    "\n",
    "cov = df['x'].cov(df['y'])"
   ]
  },
  {
   "cell_type": "code",
   "execution_count": 123,
   "id": "b61aa810",
   "metadata": {},
   "outputs": [
    {
     "data": {
      "text/plain": [
       "-2.5"
      ]
     },
     "execution_count": 123,
     "metadata": {},
     "output_type": "execute_result"
    }
   ],
   "source": [
    "cov"
   ]
  },
  {
   "cell_type": "code",
   "execution_count": 124,
   "id": "d54f0993",
   "metadata": {},
   "outputs": [],
   "source": [
    "corre_coef = df['x'].corr(df['y'])"
   ]
  },
  {
   "cell_type": "code",
   "execution_count": 125,
   "id": "941cf809",
   "metadata": {},
   "outputs": [
    {
     "data": {
      "text/plain": [
       "-0.9999999999999999"
      ]
     },
     "execution_count": 125,
     "metadata": {},
     "output_type": "execute_result"
    }
   ],
   "source": [
    "corre_coef"
   ]
  },
  {
   "cell_type": "code",
   "execution_count": 126,
   "id": "3bfc93e2",
   "metadata": {},
   "outputs": [
    {
     "name": "stdout",
     "output_type": "stream",
     "text": [
      "Covariance: -2.5\n"
     ]
    }
   ],
   "source": [
    "# Example datasets\n",
    "x = [1, 2, 3, 4, 5]\n",
    "y = [5, 4, 3, 2, 1]\n",
    "\n",
    "# Calculate covariance\n",
    "covariance = np.cov(x, y)[0][1]\n",
    "print(\"Covariance:\", covariance)"
   ]
  },
  {
   "cell_type": "code",
   "execution_count": 127,
   "id": "ba5d17e0",
   "metadata": {},
   "outputs": [
    {
     "name": "stdout",
     "output_type": "stream",
     "text": [
      "Correlation coefficient: -0.9999999999999999\n"
     ]
    }
   ],
   "source": [
    "# Example datasets\n",
    "x = [1, 2, 3, 4, 5]\n",
    "y = [5, 4, 3, 2, 1]\n",
    "\n",
    "# Calculate correlation coefficient\n",
    "correlation_coefficient = np.corrcoef(x, y)[0][1]\n",
    "print(\"Correlation coefficient:\", correlation_coefficient)"
   ]
  },
  {
   "cell_type": "code",
   "execution_count": null,
   "id": "6ab2593d",
   "metadata": {},
   "outputs": [],
   "source": []
  },
  {
   "cell_type": "code",
   "execution_count": null,
   "id": "4f1ab731",
   "metadata": {},
   "outputs": [],
   "source": []
  },
  {
   "cell_type": "code",
   "execution_count": null,
   "id": "89bc42b6",
   "metadata": {},
   "outputs": [],
   "source": []
  },
  {
   "cell_type": "code",
   "execution_count": null,
   "id": "5a90719b",
   "metadata": {},
   "outputs": [],
   "source": []
  }
 ],
 "metadata": {
  "kernelspec": {
   "display_name": "Python 3 (ipykernel)",
   "language": "python",
   "name": "python3"
  },
  "language_info": {
   "codemirror_mode": {
    "name": "ipython",
    "version": 3
   },
   "file_extension": ".py",
   "mimetype": "text/x-python",
   "name": "python",
   "nbconvert_exporter": "python",
   "pygments_lexer": "ipython3",
   "version": "3.10.9"
  }
 },
 "nbformat": 4,
 "nbformat_minor": 5
}
