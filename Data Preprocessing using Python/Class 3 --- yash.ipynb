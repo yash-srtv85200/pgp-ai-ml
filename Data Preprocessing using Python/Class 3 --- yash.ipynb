{
 "cells": [
  {
   "cell_type": "markdown",
   "id": "b95f1941",
   "metadata": {},
   "source": [
    "https://pypi.org/project/summarytools/\n",
    "\n",
    "https://pypi.org/project/skimpy/"
   ]
  },
  {
   "cell_type": "code",
   "execution_count": 1,
   "id": "eda8af3d",
   "metadata": {},
   "outputs": [
    {
     "name": "stderr",
     "output_type": "stream",
     "text": [
      "C:\\Users\\ACER\\anaconda31\\lib\\site-packages\\pandas\\core\\arrays\\masked.py:60: UserWarning: Pandas requires version '1.3.6' or newer of 'bottleneck' (version '1.3.5' currently installed).\n",
      "  from pandas.core import (\n"
     ]
    }
   ],
   "source": [
    "import pandas as pd\n",
    "import numpy as np"
   ]
  },
  {
   "cell_type": "code",
   "execution_count": 2,
   "id": "4b434fb7",
   "metadata": {},
   "outputs": [
    {
     "data": {
      "text/plain": [
       "{'Name': ['Alice', 'Bob', 'Charlie', 'David', 'Eva'],\n",
       " 'Age': [25, 30, 22, 35, 28],\n",
       " 'City': ['New York', 'San Francisco', 'Los Angeles', 'Chicago', 'Miami'],\n",
       " 'Salary': [60000, 80000, 55000, 75000, 70000]}"
      ]
     },
     "execution_count": 2,
     "metadata": {},
     "output_type": "execute_result"
    }
   ],
   "source": [
    "data = {\n",
    "\n",
    "    'Name': ['Alice', 'Bob', 'Charlie', 'David', 'Eva'],\n",
    "\n",
    "    'Age': [25, 30, 22, 35, 28],\n",
    "\n",
    "    'City': ['New York', 'San Francisco', 'Los Angeles', 'Chicago', 'Miami'],\n",
    "\n",
    "    'Salary': [60000, 80000, 55000, 75000, 70000]\n",
    "\n",
    "}\n",
    "\n",
    " \n",
    "\n",
    "data"
   ]
  },
  {
   "cell_type": "code",
   "execution_count": 3,
   "id": "7ab9ab10",
   "metadata": {},
   "outputs": [
    {
     "data": {
      "text/html": [
       "<div>\n",
       "<style scoped>\n",
       "    .dataframe tbody tr th:only-of-type {\n",
       "        vertical-align: middle;\n",
       "    }\n",
       "\n",
       "    .dataframe tbody tr th {\n",
       "        vertical-align: top;\n",
       "    }\n",
       "\n",
       "    .dataframe thead th {\n",
       "        text-align: right;\n",
       "    }\n",
       "</style>\n",
       "<table border=\"1\" class=\"dataframe\">\n",
       "  <thead>\n",
       "    <tr style=\"text-align: right;\">\n",
       "      <th></th>\n",
       "      <th>Name</th>\n",
       "      <th>Age</th>\n",
       "      <th>City</th>\n",
       "      <th>Salary</th>\n",
       "    </tr>\n",
       "  </thead>\n",
       "  <tbody>\n",
       "    <tr>\n",
       "      <th>0</th>\n",
       "      <td>Alice</td>\n",
       "      <td>25</td>\n",
       "      <td>New York</td>\n",
       "      <td>60000</td>\n",
       "    </tr>\n",
       "    <tr>\n",
       "      <th>1</th>\n",
       "      <td>Bob</td>\n",
       "      <td>30</td>\n",
       "      <td>San Francisco</td>\n",
       "      <td>80000</td>\n",
       "    </tr>\n",
       "    <tr>\n",
       "      <th>2</th>\n",
       "      <td>Charlie</td>\n",
       "      <td>22</td>\n",
       "      <td>Los Angeles</td>\n",
       "      <td>55000</td>\n",
       "    </tr>\n",
       "    <tr>\n",
       "      <th>3</th>\n",
       "      <td>David</td>\n",
       "      <td>35</td>\n",
       "      <td>Chicago</td>\n",
       "      <td>75000</td>\n",
       "    </tr>\n",
       "    <tr>\n",
       "      <th>4</th>\n",
       "      <td>Eva</td>\n",
       "      <td>28</td>\n",
       "      <td>Miami</td>\n",
       "      <td>70000</td>\n",
       "    </tr>\n",
       "  </tbody>\n",
       "</table>\n",
       "</div>"
      ],
      "text/plain": [
       "      Name  Age           City  Salary\n",
       "0    Alice   25       New York   60000\n",
       "1      Bob   30  San Francisco   80000\n",
       "2  Charlie   22    Los Angeles   55000\n",
       "3    David   35        Chicago   75000\n",
       "4      Eva   28          Miami   70000"
      ]
     },
     "execution_count": 3,
     "metadata": {},
     "output_type": "execute_result"
    }
   ],
   "source": [
    "df = pd.DataFrame(data)\n",
    "df"
   ]
  },
  {
   "cell_type": "code",
   "execution_count": 4,
   "id": "79de676c",
   "metadata": {},
   "outputs": [
    {
     "data": {
      "text/plain": [
       "pandas.core.series.Series"
      ]
     },
     "execution_count": 4,
     "metadata": {},
     "output_type": "execute_result"
    }
   ],
   "source": [
    "#Select Name column in Series\n",
    "type(df['Name'])"
   ]
  },
  {
   "cell_type": "code",
   "execution_count": 5,
   "id": "efdc0f09",
   "metadata": {},
   "outputs": [
    {
     "data": {
      "text/plain": [
       "pandas.core.frame.DataFrame"
      ]
     },
     "execution_count": 5,
     "metadata": {},
     "output_type": "execute_result"
    }
   ],
   "source": [
    "# Select Name column in dataframe form\n",
    "type(df[['Name']])"
   ]
  },
  {
   "cell_type": "code",
   "execution_count": 6,
   "id": "3ce09baa",
   "metadata": {},
   "outputs": [
    {
     "data": {
      "text/html": [
       "<div>\n",
       "<style scoped>\n",
       "    .dataframe tbody tr th:only-of-type {\n",
       "        vertical-align: middle;\n",
       "    }\n",
       "\n",
       "    .dataframe tbody tr th {\n",
       "        vertical-align: top;\n",
       "    }\n",
       "\n",
       "    .dataframe thead th {\n",
       "        text-align: right;\n",
       "    }\n",
       "</style>\n",
       "<table border=\"1\" class=\"dataframe\">\n",
       "  <thead>\n",
       "    <tr style=\"text-align: right;\">\n",
       "      <th></th>\n",
       "      <th>Name</th>\n",
       "      <th>Age</th>\n",
       "      <th>Salary</th>\n",
       "    </tr>\n",
       "  </thead>\n",
       "  <tbody>\n",
       "    <tr>\n",
       "      <th>0</th>\n",
       "      <td>Alice</td>\n",
       "      <td>25</td>\n",
       "      <td>60000</td>\n",
       "    </tr>\n",
       "    <tr>\n",
       "      <th>1</th>\n",
       "      <td>Bob</td>\n",
       "      <td>30</td>\n",
       "      <td>80000</td>\n",
       "    </tr>\n",
       "    <tr>\n",
       "      <th>2</th>\n",
       "      <td>Charlie</td>\n",
       "      <td>22</td>\n",
       "      <td>55000</td>\n",
       "    </tr>\n",
       "    <tr>\n",
       "      <th>3</th>\n",
       "      <td>David</td>\n",
       "      <td>35</td>\n",
       "      <td>75000</td>\n",
       "    </tr>\n",
       "    <tr>\n",
       "      <th>4</th>\n",
       "      <td>Eva</td>\n",
       "      <td>28</td>\n",
       "      <td>70000</td>\n",
       "    </tr>\n",
       "  </tbody>\n",
       "</table>\n",
       "</div>"
      ],
      "text/plain": [
       "      Name  Age  Salary\n",
       "0    Alice   25   60000\n",
       "1      Bob   30   80000\n",
       "2  Charlie   22   55000\n",
       "3    David   35   75000\n",
       "4      Eva   28   70000"
      ]
     },
     "execution_count": 6,
     "metadata": {},
     "output_type": "execute_result"
    }
   ],
   "source": [
    "# Select Multiple columns\n",
    "df[['Name','Age', 'Salary']]"
   ]
  },
  {
   "cell_type": "code",
   "execution_count": 7,
   "id": "fc898305",
   "metadata": {},
   "outputs": [
    {
     "data": {
      "text/html": [
       "<div>\n",
       "<style scoped>\n",
       "    .dataframe tbody tr th:only-of-type {\n",
       "        vertical-align: middle;\n",
       "    }\n",
       "\n",
       "    .dataframe tbody tr th {\n",
       "        vertical-align: top;\n",
       "    }\n",
       "\n",
       "    .dataframe thead th {\n",
       "        text-align: right;\n",
       "    }\n",
       "</style>\n",
       "<table border=\"1\" class=\"dataframe\">\n",
       "  <thead>\n",
       "    <tr style=\"text-align: right;\">\n",
       "      <th></th>\n",
       "      <th>Name</th>\n",
       "      <th>Age</th>\n",
       "      <th>City</th>\n",
       "      <th>Salary</th>\n",
       "    </tr>\n",
       "  </thead>\n",
       "  <tbody>\n",
       "    <tr>\n",
       "      <th>0</th>\n",
       "      <td>Alice</td>\n",
       "      <td>25</td>\n",
       "      <td>New York</td>\n",
       "      <td>60000</td>\n",
       "    </tr>\n",
       "  </tbody>\n",
       "</table>\n",
       "</div>"
      ],
      "text/plain": [
       "    Name  Age      City  Salary\n",
       "0  Alice   25  New York   60000"
      ]
     },
     "execution_count": 7,
     "metadata": {},
     "output_type": "execute_result"
    }
   ],
   "source": [
    "# Filtering the data with name 'Alice'\n",
    "\n",
    "#df[['Name']] == 'Alice'\n",
    "df[df['Name'] == 'Alice']"
   ]
  },
  {
   "cell_type": "code",
   "execution_count": 8,
   "id": "ba92185d",
   "metadata": {},
   "outputs": [
    {
     "data": {
      "text/html": [
       "<div>\n",
       "<style scoped>\n",
       "    .dataframe tbody tr th:only-of-type {\n",
       "        vertical-align: middle;\n",
       "    }\n",
       "\n",
       "    .dataframe tbody tr th {\n",
       "        vertical-align: top;\n",
       "    }\n",
       "\n",
       "    .dataframe thead th {\n",
       "        text-align: right;\n",
       "    }\n",
       "</style>\n",
       "<table border=\"1\" class=\"dataframe\">\n",
       "  <thead>\n",
       "    <tr style=\"text-align: right;\">\n",
       "      <th></th>\n",
       "      <th>Name</th>\n",
       "    </tr>\n",
       "  </thead>\n",
       "  <tbody>\n",
       "    <tr>\n",
       "      <th>0</th>\n",
       "      <td>Alice</td>\n",
       "    </tr>\n",
       "  </tbody>\n",
       "</table>\n",
       "</div>"
      ],
      "text/plain": [
       "    Name\n",
       "0  Alice"
      ]
     },
     "execution_count": 8,
     "metadata": {},
     "output_type": "execute_result"
    }
   ],
   "source": [
    "# If we reqire only name\n",
    "df[df['Name'] == 'Alice'][['Name']]"
   ]
  },
  {
   "cell_type": "code",
   "execution_count": 9,
   "id": "0467d725",
   "metadata": {},
   "outputs": [
    {
     "data": {
      "text/html": [
       "<div>\n",
       "<style scoped>\n",
       "    .dataframe tbody tr th:only-of-type {\n",
       "        vertical-align: middle;\n",
       "    }\n",
       "\n",
       "    .dataframe tbody tr th {\n",
       "        vertical-align: top;\n",
       "    }\n",
       "\n",
       "    .dataframe thead th {\n",
       "        text-align: right;\n",
       "    }\n",
       "</style>\n",
       "<table border=\"1\" class=\"dataframe\">\n",
       "  <thead>\n",
       "    <tr style=\"text-align: right;\">\n",
       "      <th></th>\n",
       "      <th>Name</th>\n",
       "    </tr>\n",
       "  </thead>\n",
       "  <tbody>\n",
       "    <tr>\n",
       "      <th>0</th>\n",
       "      <td>Alice</td>\n",
       "    </tr>\n",
       "  </tbody>\n",
       "</table>\n",
       "</div>"
      ],
      "text/plain": [
       "    Name\n",
       "0  Alice"
      ]
     },
     "execution_count": 9,
     "metadata": {},
     "output_type": "execute_result"
    }
   ],
   "source": [
    "df[['Name']][df['Name']=='Alice']"
   ]
  },
  {
   "cell_type": "code",
   "execution_count": 10,
   "id": "f6ffc245",
   "metadata": {},
   "outputs": [
    {
     "data": {
      "text/html": [
       "<div>\n",
       "<style scoped>\n",
       "    .dataframe tbody tr th:only-of-type {\n",
       "        vertical-align: middle;\n",
       "    }\n",
       "\n",
       "    .dataframe tbody tr th {\n",
       "        vertical-align: top;\n",
       "    }\n",
       "\n",
       "    .dataframe thead th {\n",
       "        text-align: right;\n",
       "    }\n",
       "</style>\n",
       "<table border=\"1\" class=\"dataframe\">\n",
       "  <thead>\n",
       "    <tr style=\"text-align: right;\">\n",
       "      <th></th>\n",
       "      <th>Name</th>\n",
       "      <th>Age</th>\n",
       "      <th>City</th>\n",
       "      <th>Salary</th>\n",
       "    </tr>\n",
       "  </thead>\n",
       "  <tbody>\n",
       "    <tr>\n",
       "      <th>0</th>\n",
       "      <td>Alice</td>\n",
       "      <td>25</td>\n",
       "      <td>New York</td>\n",
       "      <td>60000</td>\n",
       "    </tr>\n",
       "  </tbody>\n",
       "</table>\n",
       "</div>"
      ],
      "text/plain": [
       "    Name  Age      City  Salary\n",
       "0  Alice   25  New York   60000"
      ]
     },
     "execution_count": 10,
     "metadata": {},
     "output_type": "execute_result"
    }
   ],
   "source": [
    "df.query('Name == \"Alice\"')"
   ]
  },
  {
   "cell_type": "code",
   "execution_count": 11,
   "id": "25a914eb",
   "metadata": {},
   "outputs": [
    {
     "data": {
      "text/html": [
       "<div>\n",
       "<style scoped>\n",
       "    .dataframe tbody tr th:only-of-type {\n",
       "        vertical-align: middle;\n",
       "    }\n",
       "\n",
       "    .dataframe tbody tr th {\n",
       "        vertical-align: top;\n",
       "    }\n",
       "\n",
       "    .dataframe thead th {\n",
       "        text-align: right;\n",
       "    }\n",
       "</style>\n",
       "<table border=\"1\" class=\"dataframe\">\n",
       "  <thead>\n",
       "    <tr style=\"text-align: right;\">\n",
       "      <th></th>\n",
       "      <th>Name</th>\n",
       "      <th>Age</th>\n",
       "      <th>City</th>\n",
       "      <th>Salary</th>\n",
       "    </tr>\n",
       "  </thead>\n",
       "  <tbody>\n",
       "    <tr>\n",
       "      <th>1</th>\n",
       "      <td>Bob</td>\n",
       "      <td>30</td>\n",
       "      <td>San Francisco</td>\n",
       "      <td>80000</td>\n",
       "    </tr>\n",
       "    <tr>\n",
       "      <th>3</th>\n",
       "      <td>David</td>\n",
       "      <td>35</td>\n",
       "      <td>Chicago</td>\n",
       "      <td>75000</td>\n",
       "    </tr>\n",
       "  </tbody>\n",
       "</table>\n",
       "</div>"
      ],
      "text/plain": [
       "    Name  Age           City  Salary\n",
       "1    Bob   30  San Francisco   80000\n",
       "3  David   35        Chicago   75000"
      ]
     },
     "execution_count": 11,
     "metadata": {},
     "output_type": "execute_result"
    }
   ],
   "source": [
    "df.query('Salary > 70000')"
   ]
  },
  {
   "cell_type": "code",
   "execution_count": 12,
   "id": "5a696e39",
   "metadata": {},
   "outputs": [
    {
     "data": {
      "text/html": [
       "<div>\n",
       "<style scoped>\n",
       "    .dataframe tbody tr th:only-of-type {\n",
       "        vertical-align: middle;\n",
       "    }\n",
       "\n",
       "    .dataframe tbody tr th {\n",
       "        vertical-align: top;\n",
       "    }\n",
       "\n",
       "    .dataframe thead th {\n",
       "        text-align: right;\n",
       "    }\n",
       "</style>\n",
       "<table border=\"1\" class=\"dataframe\">\n",
       "  <thead>\n",
       "    <tr style=\"text-align: right;\">\n",
       "      <th></th>\n",
       "      <th>Name</th>\n",
       "      <th>Age</th>\n",
       "      <th>City</th>\n",
       "      <th>Salary</th>\n",
       "    </tr>\n",
       "  </thead>\n",
       "  <tbody>\n",
       "    <tr>\n",
       "      <th>1</th>\n",
       "      <td>Bob</td>\n",
       "      <td>30</td>\n",
       "      <td>San Francisco</td>\n",
       "      <td>80000</td>\n",
       "    </tr>\n",
       "    <tr>\n",
       "      <th>3</th>\n",
       "      <td>David</td>\n",
       "      <td>35</td>\n",
       "      <td>Chicago</td>\n",
       "      <td>75000</td>\n",
       "    </tr>\n",
       "    <tr>\n",
       "      <th>4</th>\n",
       "      <td>Eva</td>\n",
       "      <td>28</td>\n",
       "      <td>Miami</td>\n",
       "      <td>70000</td>\n",
       "    </tr>\n",
       "  </tbody>\n",
       "</table>\n",
       "</div>"
      ],
      "text/plain": [
       "    Name  Age           City  Salary\n",
       "1    Bob   30  San Francisco   80000\n",
       "3  David   35        Chicago   75000\n",
       "4    Eva   28          Miami   70000"
      ]
     },
     "execution_count": 12,
     "metadata": {},
     "output_type": "execute_result"
    }
   ],
   "source": [
    "df.query('Age > 25')"
   ]
  },
  {
   "cell_type": "code",
   "execution_count": 13,
   "id": "ded4d04a",
   "metadata": {},
   "outputs": [
    {
     "data": {
      "text/html": [
       "<div>\n",
       "<style scoped>\n",
       "    .dataframe tbody tr th:only-of-type {\n",
       "        vertical-align: middle;\n",
       "    }\n",
       "\n",
       "    .dataframe tbody tr th {\n",
       "        vertical-align: top;\n",
       "    }\n",
       "\n",
       "    .dataframe thead th {\n",
       "        text-align: right;\n",
       "    }\n",
       "</style>\n",
       "<table border=\"1\" class=\"dataframe\">\n",
       "  <thead>\n",
       "    <tr style=\"text-align: right;\">\n",
       "      <th></th>\n",
       "      <th>Name</th>\n",
       "      <th>Age</th>\n",
       "      <th>City</th>\n",
       "      <th>Salary</th>\n",
       "    </tr>\n",
       "  </thead>\n",
       "  <tbody>\n",
       "    <tr>\n",
       "      <th>1</th>\n",
       "      <td>Bob</td>\n",
       "      <td>30</td>\n",
       "      <td>San Francisco</td>\n",
       "      <td>80000</td>\n",
       "    </tr>\n",
       "    <tr>\n",
       "      <th>3</th>\n",
       "      <td>David</td>\n",
       "      <td>35</td>\n",
       "      <td>Chicago</td>\n",
       "      <td>75000</td>\n",
       "    </tr>\n",
       "    <tr>\n",
       "      <th>4</th>\n",
       "      <td>Eva</td>\n",
       "      <td>28</td>\n",
       "      <td>Miami</td>\n",
       "      <td>70000</td>\n",
       "    </tr>\n",
       "  </tbody>\n",
       "</table>\n",
       "</div>"
      ],
      "text/plain": [
       "    Name  Age           City  Salary\n",
       "1    Bob   30  San Francisco   80000\n",
       "3  David   35        Chicago   75000\n",
       "4    Eva   28          Miami   70000"
      ]
     },
     "execution_count": 13,
     "metadata": {},
     "output_type": "execute_result"
    }
   ],
   "source": [
    "df[df['Age']>25]"
   ]
  },
  {
   "cell_type": "code",
   "execution_count": 14,
   "id": "11eec925",
   "metadata": {},
   "outputs": [
    {
     "data": {
      "text/html": [
       "<div>\n",
       "<style scoped>\n",
       "    .dataframe tbody tr th:only-of-type {\n",
       "        vertical-align: middle;\n",
       "    }\n",
       "\n",
       "    .dataframe tbody tr th {\n",
       "        vertical-align: top;\n",
       "    }\n",
       "\n",
       "    .dataframe thead th {\n",
       "        text-align: right;\n",
       "    }\n",
       "</style>\n",
       "<table border=\"1\" class=\"dataframe\">\n",
       "  <thead>\n",
       "    <tr style=\"text-align: right;\">\n",
       "      <th></th>\n",
       "      <th>Name</th>\n",
       "      <th>Age</th>\n",
       "      <th>City</th>\n",
       "      <th>Salary</th>\n",
       "    </tr>\n",
       "  </thead>\n",
       "  <tbody>\n",
       "    <tr>\n",
       "      <th>1</th>\n",
       "      <td>Bob</td>\n",
       "      <td>30</td>\n",
       "      <td>San Francisco</td>\n",
       "      <td>80000</td>\n",
       "    </tr>\n",
       "  </tbody>\n",
       "</table>\n",
       "</div>"
      ],
      "text/plain": [
       "  Name  Age           City  Salary\n",
       "1  Bob   30  San Francisco   80000"
      ]
     },
     "execution_count": 14,
     "metadata": {},
     "output_type": "execute_result"
    }
   ],
   "source": [
    "# Multiple columns\n",
    "df.query('Age > 25 & Salary > 75000')"
   ]
  },
  {
   "cell_type": "code",
   "execution_count": 15,
   "id": "74e45c8c",
   "metadata": {},
   "outputs": [
    {
     "data": {
      "text/html": [
       "<div>\n",
       "<style scoped>\n",
       "    .dataframe tbody tr th:only-of-type {\n",
       "        vertical-align: middle;\n",
       "    }\n",
       "\n",
       "    .dataframe tbody tr th {\n",
       "        vertical-align: top;\n",
       "    }\n",
       "\n",
       "    .dataframe thead th {\n",
       "        text-align: right;\n",
       "    }\n",
       "</style>\n",
       "<table border=\"1\" class=\"dataframe\">\n",
       "  <thead>\n",
       "    <tr style=\"text-align: right;\">\n",
       "      <th></th>\n",
       "      <th>Name</th>\n",
       "      <th>Age</th>\n",
       "      <th>City</th>\n",
       "      <th>Salary</th>\n",
       "    </tr>\n",
       "  </thead>\n",
       "  <tbody>\n",
       "    <tr>\n",
       "      <th>1</th>\n",
       "      <td>Bob</td>\n",
       "      <td>30</td>\n",
       "      <td>San Francisco</td>\n",
       "      <td>80000</td>\n",
       "    </tr>\n",
       "  </tbody>\n",
       "</table>\n",
       "</div>"
      ],
      "text/plain": [
       "  Name  Age           City  Salary\n",
       "1  Bob   30  San Francisco   80000"
      ]
     },
     "execution_count": 15,
     "metadata": {},
     "output_type": "execute_result"
    }
   ],
   "source": [
    "df[(df['Age'] > 25) & (df['Salary'] > 75000)]"
   ]
  },
  {
   "cell_type": "code",
   "execution_count": 16,
   "id": "26dcc355",
   "metadata": {},
   "outputs": [
    {
     "data": {
      "text/html": [
       "<div>\n",
       "<style scoped>\n",
       "    .dataframe tbody tr th:only-of-type {\n",
       "        vertical-align: middle;\n",
       "    }\n",
       "\n",
       "    .dataframe tbody tr th {\n",
       "        vertical-align: top;\n",
       "    }\n",
       "\n",
       "    .dataframe thead th {\n",
       "        text-align: right;\n",
       "    }\n",
       "</style>\n",
       "<table border=\"1\" class=\"dataframe\">\n",
       "  <thead>\n",
       "    <tr style=\"text-align: right;\">\n",
       "      <th></th>\n",
       "      <th>Name</th>\n",
       "      <th>Age</th>\n",
       "      <th>City</th>\n",
       "      <th>Salary</th>\n",
       "    </tr>\n",
       "  </thead>\n",
       "  <tbody>\n",
       "    <tr>\n",
       "      <th>0</th>\n",
       "      <td>Alice</td>\n",
       "      <td>25</td>\n",
       "      <td>New York</td>\n",
       "      <td>60000</td>\n",
       "    </tr>\n",
       "    <tr>\n",
       "      <th>1</th>\n",
       "      <td>Bob</td>\n",
       "      <td>30</td>\n",
       "      <td>San Francisco</td>\n",
       "      <td>80000</td>\n",
       "    </tr>\n",
       "    <tr>\n",
       "      <th>2</th>\n",
       "      <td>Charlie</td>\n",
       "      <td>22</td>\n",
       "      <td>Los Angeles</td>\n",
       "      <td>55000</td>\n",
       "    </tr>\n",
       "    <tr>\n",
       "      <th>3</th>\n",
       "      <td>David</td>\n",
       "      <td>35</td>\n",
       "      <td>Chicago</td>\n",
       "      <td>75000</td>\n",
       "    </tr>\n",
       "    <tr>\n",
       "      <th>4</th>\n",
       "      <td>Eva</td>\n",
       "      <td>28</td>\n",
       "      <td>Miami</td>\n",
       "      <td>70000</td>\n",
       "    </tr>\n",
       "  </tbody>\n",
       "</table>\n",
       "</div>"
      ],
      "text/plain": [
       "      Name  Age           City  Salary\n",
       "0    Alice   25       New York   60000\n",
       "1      Bob   30  San Francisco   80000\n",
       "2  Charlie   22    Los Angeles   55000\n",
       "3    David   35        Chicago   75000\n",
       "4      Eva   28          Miami   70000"
      ]
     },
     "execution_count": 16,
     "metadata": {},
     "output_type": "execute_result"
    }
   ],
   "source": [
    "df"
   ]
  },
  {
   "cell_type": "code",
   "execution_count": 17,
   "id": "ff571a48",
   "metadata": {},
   "outputs": [
    {
     "name": "stdout",
     "output_type": "stream",
     "text": [
      "<class 'pandas.core.frame.DataFrame'>\n",
      "RangeIndex: 5 entries, 0 to 4\n",
      "Data columns (total 4 columns):\n",
      " #   Column  Non-Null Count  Dtype \n",
      "---  ------  --------------  ----- \n",
      " 0   Name    5 non-null      object\n",
      " 1   Age     5 non-null      int64 \n",
      " 2   City    5 non-null      object\n",
      " 3   Salary  5 non-null      int64 \n",
      "dtypes: int64(2), object(2)\n",
      "memory usage: 288.0+ bytes\n"
     ]
    }
   ],
   "source": [
    "df.info()"
   ]
  },
  {
   "cell_type": "code",
   "execution_count": 18,
   "id": "9c475b39",
   "metadata": {},
   "outputs": [
    {
     "data": {
      "text/plain": [
       "<bound method NDFrame.describe of       Name  Age           City  Salary\n",
       "0    Alice   25       New York   60000\n",
       "1      Bob   30  San Francisco   80000\n",
       "2  Charlie   22    Los Angeles   55000\n",
       "3    David   35        Chicago   75000\n",
       "4      Eva   28          Miami   70000>"
      ]
     },
     "execution_count": 18,
     "metadata": {},
     "output_type": "execute_result"
    }
   ],
   "source": [
    "df.describe"
   ]
  },
  {
   "cell_type": "code",
   "execution_count": 19,
   "id": "e6c5a8e4",
   "metadata": {},
   "outputs": [
    {
     "data": {
      "text/plain": [
       "(5, 4)"
      ]
     },
     "execution_count": 19,
     "metadata": {},
     "output_type": "execute_result"
    }
   ],
   "source": [
    "df.shape"
   ]
  },
  {
   "cell_type": "code",
   "execution_count": 20,
   "id": "f20dab2b",
   "metadata": {},
   "outputs": [
    {
     "data": {
      "text/plain": [
       "Index(['Name', 'Age', 'City', 'Salary'], dtype='object')"
      ]
     },
     "execution_count": 20,
     "metadata": {},
     "output_type": "execute_result"
    }
   ],
   "source": [
    "df.columns"
   ]
  },
  {
   "cell_type": "code",
   "execution_count": 21,
   "id": "34c59893",
   "metadata": {},
   "outputs": [
    {
     "data": {
      "text/plain": [
       "RangeIndex(start=0, stop=5, step=1)"
      ]
     },
     "execution_count": 21,
     "metadata": {},
     "output_type": "execute_result"
    }
   ],
   "source": [
    "df.index"
   ]
  },
  {
   "cell_type": "code",
   "execution_count": 22,
   "id": "93065315",
   "metadata": {},
   "outputs": [
    {
     "data": {
      "text/plain": [
       "20"
      ]
     },
     "execution_count": 22,
     "metadata": {},
     "output_type": "execute_result"
    }
   ],
   "source": [
    "df.size"
   ]
  },
  {
   "cell_type": "code",
   "execution_count": 23,
   "id": "c003db40",
   "metadata": {},
   "outputs": [
    {
     "data": {
      "text/plain": [
       "Index     128\n",
       "Name       40\n",
       "Age        40\n",
       "City       40\n",
       "Salary     40\n",
       "dtype: int64"
      ]
     },
     "execution_count": 23,
     "metadata": {},
     "output_type": "execute_result"
    }
   ],
   "source": [
    "df.memory_usage()"
   ]
  },
  {
   "cell_type": "code",
   "execution_count": 24,
   "id": "940caffb",
   "metadata": {},
   "outputs": [
    {
     "data": {
      "text/plain": [
       "pandas.core.frame.DataFrame"
      ]
     },
     "execution_count": 24,
     "metadata": {},
     "output_type": "execute_result"
    }
   ],
   "source": [
    "type(df)"
   ]
  },
  {
   "cell_type": "code",
   "execution_count": 25,
   "id": "5bd59867",
   "metadata": {},
   "outputs": [
    {
     "name": "stdout",
     "output_type": "stream",
     "text": [
      "Collecting skimpy\n",
      "  Using cached skimpy-0.0.14-py3-none-any.whl (16 kB)\n",
      "Requirement already satisfied: click<9.0.0,>=8.1.6 in c:\\users\\acer\\anaconda31\\lib\\site-packages (from skimpy) (8.1.7)\n",
      "Requirement already satisfied: pyarrow<16,>=13 in c:\\users\\acer\\anaconda31\\lib\\site-packages (from skimpy) (15.0.2)\n",
      "Requirement already satisfied: rich<14.0,>=10.9 in c:\\users\\acer\\anaconda31\\lib\\site-packages (from skimpy) (12.6.0)\n",
      "Requirement already satisfied: numpy<2.0.0,>=1.22.2 in c:\\users\\acer\\anaconda31\\lib\\site-packages (from skimpy) (1.23.5)\n",
      "Requirement already satisfied: Pygments<3.0.0,>=2.10.0 in c:\\users\\acer\\anaconda31\\lib\\site-packages (from skimpy) (2.11.2)\n",
      "Requirement already satisfied: ipykernel<7.0.0,>=6.7.0 in c:\\users\\acer\\anaconda31\\lib\\site-packages (from skimpy) (6.19.2)\n",
      "Collecting quartodoc<0.8.0,>=0.7.2\n",
      "  Using cached quartodoc-0.7.2-py3-none-any.whl (77 kB)\n",
      "Requirement already satisfied: polars<0.21,>=0.19 in c:\\users\\acer\\anaconda31\\lib\\site-packages (from skimpy) (0.20.16)\n",
      "Requirement already satisfied: typeguard==4.1.5 in c:\\users\\acer\\anaconda31\\lib\\site-packages (from skimpy) (4.1.5)\n",
      "Requirement already satisfied: pandas<3.0.0,>=2.0.3 in c:\\users\\acer\\anaconda31\\lib\\site-packages (from skimpy) (2.2.1)\n",
      "Requirement already satisfied: typing-extensions>=4.7.0 in c:\\users\\acer\\anaconda31\\lib\\site-packages (from typeguard==4.1.5->skimpy) (4.10.0)\n",
      "Requirement already satisfied: colorama in c:\\users\\acer\\anaconda31\\lib\\site-packages (from click<9.0.0,>=8.1.6->skimpy) (0.4.6)\n",
      "Requirement already satisfied: jupyter-client>=6.1.12 in c:\\users\\acer\\anaconda31\\lib\\site-packages (from ipykernel<7.0.0,>=6.7.0->skimpy) (7.3.4)\n",
      "Requirement already satisfied: debugpy>=1.0 in c:\\users\\acer\\anaconda31\\lib\\site-packages (from ipykernel<7.0.0,>=6.7.0->skimpy) (1.5.1)\n",
      "Requirement already satisfied: psutil in c:\\users\\acer\\anaconda31\\lib\\site-packages (from ipykernel<7.0.0,>=6.7.0->skimpy) (5.9.0)\n",
      "Requirement already satisfied: traitlets>=5.4.0 in c:\\users\\acer\\anaconda31\\lib\\site-packages (from ipykernel<7.0.0,>=6.7.0->skimpy) (5.7.1)\n",
      "Requirement already satisfied: matplotlib-inline>=0.1 in c:\\users\\acer\\anaconda31\\lib\\site-packages (from ipykernel<7.0.0,>=6.7.0->skimpy) (0.1.6)\n",
      "Requirement already satisfied: packaging in c:\\users\\acer\\anaconda31\\lib\\site-packages (from ipykernel<7.0.0,>=6.7.0->skimpy) (22.0)\n",
      "Requirement already satisfied: comm>=0.1.1 in c:\\users\\acer\\anaconda31\\lib\\site-packages (from ipykernel<7.0.0,>=6.7.0->skimpy) (0.1.2)\n",
      "Requirement already satisfied: pyzmq>=17 in c:\\users\\acer\\anaconda31\\lib\\site-packages (from ipykernel<7.0.0,>=6.7.0->skimpy) (23.2.0)\n",
      "Requirement already satisfied: ipython>=7.23.1 in c:\\users\\acer\\anaconda31\\lib\\site-packages (from ipykernel<7.0.0,>=6.7.0->skimpy) (8.10.0)\n",
      "Requirement already satisfied: tornado>=6.1 in c:\\users\\acer\\anaconda31\\lib\\site-packages (from ipykernel<7.0.0,>=6.7.0->skimpy) (6.1)\n",
      "Requirement already satisfied: nest-asyncio in c:\\users\\acer\\anaconda31\\lib\\site-packages (from ipykernel<7.0.0,>=6.7.0->skimpy) (1.5.6)\n",
      "Requirement already satisfied: python-dateutil>=2.8.2 in c:\\users\\acer\\anaconda31\\lib\\site-packages (from pandas<3.0.0,>=2.0.3->skimpy) (2.8.2)\n",
      "Requirement already satisfied: tzdata>=2022.7 in c:\\users\\acer\\anaconda31\\lib\\site-packages (from pandas<3.0.0,>=2.0.3->skimpy) (2024.1)\n",
      "Requirement already satisfied: pytz>=2020.1 in c:\\users\\acer\\anaconda31\\lib\\site-packages (from pandas<3.0.0,>=2.0.3->skimpy) (2022.7)\n",
      "Requirement already satisfied: importlib-resources>=5.10.2 in c:\\users\\acer\\anaconda31\\lib\\site-packages (from quartodoc<0.8.0,>=0.7.2->skimpy) (6.3.2)\n",
      "Requirement already satisfied: sphobjinv>=2.3.1 in c:\\users\\acer\\anaconda31\\lib\\site-packages (from quartodoc<0.8.0,>=0.7.2->skimpy) (2.3.1)\n",
      "Requirement already satisfied: importlib-metadata>=5.1.0 in c:\\users\\acer\\anaconda31\\lib\\site-packages (from quartodoc<0.8.0,>=0.7.2->skimpy) (7.0.2)\n",
      "Requirement already satisfied: pyyaml in c:\\users\\acer\\anaconda31\\lib\\site-packages (from quartodoc<0.8.0,>=0.7.2->skimpy) (6.0)\n",
      "Requirement already satisfied: watchdog>=3.0.0 in c:\\users\\acer\\anaconda31\\lib\\site-packages (from quartodoc<0.8.0,>=0.7.2->skimpy) (4.0.0)\n",
      "Requirement already satisfied: plum-dispatch>2.0.0 in c:\\users\\acer\\anaconda31\\lib\\site-packages (from quartodoc<0.8.0,>=0.7.2->skimpy) (2.3.2)\n",
      "Requirement already satisfied: pydantic in c:\\users\\acer\\anaconda31\\lib\\site-packages (from quartodoc<0.8.0,>=0.7.2->skimpy) (1.10.8)\n",
      "Requirement already satisfied: griffe>=0.33 in c:\\users\\acer\\anaconda31\\lib\\site-packages (from quartodoc<0.8.0,>=0.7.2->skimpy) (0.42.1)\n",
      "Requirement already satisfied: tabulate>=0.9.0 in c:\\users\\acer\\anaconda31\\lib\\site-packages (from quartodoc<0.8.0,>=0.7.2->skimpy) (0.9.0)\n",
      "Requirement already satisfied: commonmark<0.10.0,>=0.9.0 in c:\\users\\acer\\anaconda31\\lib\\site-packages (from rich<14.0,>=10.9->skimpy) (0.9.1)\n",
      "Requirement already satisfied: zipp>=0.5 in c:\\users\\acer\\anaconda31\\lib\\site-packages (from importlib-metadata>=5.1.0->quartodoc<0.8.0,>=0.7.2->skimpy) (3.11.0)\n",
      "Requirement already satisfied: stack-data in c:\\users\\acer\\anaconda31\\lib\\site-packages (from ipython>=7.23.1->ipykernel<7.0.0,>=6.7.0->skimpy) (0.2.0)\n",
      "Requirement already satisfied: decorator in c:\\users\\acer\\anaconda31\\lib\\site-packages (from ipython>=7.23.1->ipykernel<7.0.0,>=6.7.0->skimpy) (5.1.1)\n",
      "Requirement already satisfied: jedi>=0.16 in c:\\users\\acer\\anaconda31\\lib\\site-packages (from ipython>=7.23.1->ipykernel<7.0.0,>=6.7.0->skimpy) (0.18.1)\n",
      "Requirement already satisfied: prompt-toolkit<3.1.0,>=3.0.30 in c:\\users\\acer\\anaconda31\\lib\\site-packages (from ipython>=7.23.1->ipykernel<7.0.0,>=6.7.0->skimpy) (3.0.36)\n",
      "Requirement already satisfied: backcall in c:\\users\\acer\\anaconda31\\lib\\site-packages (from ipython>=7.23.1->ipykernel<7.0.0,>=6.7.0->skimpy) (0.2.0)\n",
      "Requirement already satisfied: pickleshare in c:\\users\\acer\\anaconda31\\lib\\site-packages (from ipython>=7.23.1->ipykernel<7.0.0,>=6.7.0->skimpy) (0.7.5)\n",
      "Requirement already satisfied: entrypoints in c:\\users\\acer\\anaconda31\\lib\\site-packages (from jupyter-client>=6.1.12->ipykernel<7.0.0,>=6.7.0->skimpy) (0.4)\n",
      "Requirement already satisfied: jupyter-core>=4.9.2 in c:\\users\\acer\\anaconda31\\lib\\site-packages (from jupyter-client>=6.1.12->ipykernel<7.0.0,>=6.7.0->skimpy) (5.2.0)\n",
      "Requirement already satisfied: beartype>=0.16.2 in c:\\users\\acer\\anaconda31\\lib\\site-packages (from plum-dispatch>2.0.0->quartodoc<0.8.0,>=0.7.2->skimpy) (0.17.2)\n",
      "Requirement already satisfied: six>=1.5 in c:\\users\\acer\\anaconda31\\lib\\site-packages (from python-dateutil>=2.8.2->pandas<3.0.0,>=2.0.3->skimpy) (1.16.0)\n",
      "Requirement already satisfied: jsonschema>=3.0 in c:\\users\\acer\\anaconda31\\lib\\site-packages (from sphobjinv>=2.3.1->quartodoc<0.8.0,>=0.7.2->skimpy) (4.17.3)\n",
      "Requirement already satisfied: certifi in c:\\users\\acer\\anaconda31\\lib\\site-packages (from sphobjinv>=2.3.1->quartodoc<0.8.0,>=0.7.2->skimpy) (2023.5.7)\n",
      "Requirement already satisfied: attrs>=19.2 in c:\\users\\acer\\anaconda31\\lib\\site-packages (from sphobjinv>=2.3.1->quartodoc<0.8.0,>=0.7.2->skimpy) (22.1.0)\n",
      "Requirement already satisfied: parso<0.9.0,>=0.8.0 in c:\\users\\acer\\anaconda31\\lib\\site-packages (from jedi>=0.16->ipython>=7.23.1->ipykernel<7.0.0,>=6.7.0->skimpy) (0.8.3)\n",
      "Requirement already satisfied: pyrsistent!=0.17.0,!=0.17.1,!=0.17.2,>=0.14.0 in c:\\users\\acer\\anaconda31\\lib\\site-packages (from jsonschema>=3.0->sphobjinv>=2.3.1->quartodoc<0.8.0,>=0.7.2->skimpy) (0.18.0)\n",
      "Requirement already satisfied: platformdirs>=2.5 in c:\\users\\acer\\anaconda31\\lib\\site-packages (from jupyter-core>=4.9.2->jupyter-client>=6.1.12->ipykernel<7.0.0,>=6.7.0->skimpy) (2.5.2)\n",
      "Requirement already satisfied: pywin32>=1.0 in c:\\users\\acer\\anaconda31\\lib\\site-packages (from jupyter-core>=4.9.2->jupyter-client>=6.1.12->ipykernel<7.0.0,>=6.7.0->skimpy) (305.1)\n",
      "Requirement already satisfied: wcwidth in c:\\users\\acer\\anaconda31\\lib\\site-packages (from prompt-toolkit<3.1.0,>=3.0.30->ipython>=7.23.1->ipykernel<7.0.0,>=6.7.0->skimpy) (0.2.5)\n",
      "Requirement already satisfied: pure-eval in c:\\users\\acer\\anaconda31\\lib\\site-packages (from stack-data->ipython>=7.23.1->ipykernel<7.0.0,>=6.7.0->skimpy) (0.2.2)\n",
      "Requirement already satisfied: executing in c:\\users\\acer\\anaconda31\\lib\\site-packages (from stack-data->ipython>=7.23.1->ipykernel<7.0.0,>=6.7.0->skimpy) (0.8.3)\n",
      "Requirement already satisfied: asttokens in c:\\users\\acer\\anaconda31\\lib\\site-packages (from stack-data->ipython>=7.23.1->ipykernel<7.0.0,>=6.7.0->skimpy) (2.0.5)\n",
      "Installing collected packages: quartodoc, skimpy\n",
      "Successfully installed quartodoc-0.7.2 skimpy-0.0.14\n",
      "Note: you may need to restart the kernel to use updated packages.\n"
     ]
    },
    {
     "name": "stderr",
     "output_type": "stream",
     "text": [
      "WARNING: Ignoring invalid distribution -andas (c:\\users\\acer\\anaconda31\\lib\\site-packages)\n",
      "WARNING: Ignoring invalid distribution -andas (c:\\users\\acer\\anaconda31\\lib\\site-packages)\n",
      "WARNING: Ignoring invalid distribution -andas (c:\\users\\acer\\anaconda31\\lib\\site-packages)\n",
      "WARNING: Ignoring invalid distribution -andas (c:\\users\\acer\\anaconda31\\lib\\site-packages)\n",
      "WARNING: Ignoring invalid distribution -andas (c:\\users\\acer\\anaconda31\\lib\\site-packages)\n",
      "WARNING: Ignoring invalid distribution -andas (c:\\users\\acer\\anaconda31\\lib\\site-packages)\n",
      "WARNING: Ignoring invalid distribution -andas (c:\\users\\acer\\anaconda31\\lib\\site-packages)\n",
      "WARNING: Ignoring invalid distribution -andas (c:\\users\\acer\\anaconda31\\lib\\site-packages)\n"
     ]
    }
   ],
   "source": [
    "pip install skimpy"
   ]
  },
  {
   "cell_type": "code",
   "execution_count": 26,
   "id": "66f4170c",
   "metadata": {},
   "outputs": [
    {
     "data": {
      "text/html": [
       "<pre style=\"white-space:pre;overflow-x:auto;line-height:normal;font-family:Menlo,'DejaVu Sans Mono',consolas,'Courier New',monospace\">╭──────────────────────────────────────────────── skimpy summary ─────────────────────────────────────────────────╮\n",
       "│ <span style=\"font-style: italic\">         Data Summary         </span> <span style=\"font-style: italic\">      Data Types       </span>                                                          │\n",
       "│ ┏━━━━━━━━━━━━━━━━━━━┳━━━━━━━━┓ ┏━━━━━━━━━━━━━┳━━━━━━━┓                                                          │\n",
       "│ ┃<span style=\"color: #008080; text-decoration-color: #008080; font-weight: bold\"> dataframe         </span>┃<span style=\"color: #008080; text-decoration-color: #008080; font-weight: bold\"> Values </span>┃ ┃<span style=\"color: #008080; text-decoration-color: #008080; font-weight: bold\"> Column Type </span>┃<span style=\"color: #008080; text-decoration-color: #008080; font-weight: bold\"> Count </span>┃                                                          │\n",
       "│ ┡━━━━━━━━━━━━━━━━━━━╇━━━━━━━━┩ ┡━━━━━━━━━━━━━╇━━━━━━━┩                                                          │\n",
       "│ │ Number of rows    │ 5      │ │ string      │ 2     │                                                          │\n",
       "│ │ Number of columns │ 4      │ │ int32       │ 2     │                                                          │\n",
       "│ └───────────────────┴────────┘ └─────────────┴───────┘                                                          │\n",
       "│ <span style=\"font-style: italic\">                                                    number                                                    </span>  │\n",
       "│ ┏━━━━━━━━━━━━━━━━┳━━━━━┳━━━━━━━━┳━━━━━━━━━┳━━━━━━━━━┳━━━━━━━━━┳━━━━━━━━━┳━━━━━━━━┳━━━━━━━━┳━━━━━━━━┳━━━━━━━━━┓  │\n",
       "│ ┃<span style=\"font-weight: bold\"> column_name    </span>┃<span style=\"font-weight: bold\"> NA  </span>┃<span style=\"font-weight: bold\"> NA %   </span>┃<span style=\"font-weight: bold\"> mean    </span>┃<span style=\"font-weight: bold\"> sd      </span>┃<span style=\"font-weight: bold\"> p0      </span>┃<span style=\"font-weight: bold\"> p25     </span>┃<span style=\"font-weight: bold\"> p50    </span>┃<span style=\"font-weight: bold\"> p75    </span>┃<span style=\"font-weight: bold\"> p100   </span>┃<span style=\"font-weight: bold\"> hist    </span>┃  │\n",
       "│ ┡━━━━━━━━━━━━━━━━╇━━━━━╇━━━━━━━━╇━━━━━━━━━╇━━━━━━━━━╇━━━━━━━━━╇━━━━━━━━━╇━━━━━━━━╇━━━━━━━━╇━━━━━━━━╇━━━━━━━━━┩  │\n",
       "│ │ <span style=\"color: #af87ff; text-decoration-color: #af87ff\">Age           </span> │ <span style=\"color: #008080; text-decoration-color: #008080\">  0</span> │ <span style=\"color: #008080; text-decoration-color: #008080\">     0</span> │ <span style=\"color: #008080; text-decoration-color: #008080\">     28</span> │ <span style=\"color: #008080; text-decoration-color: #008080\">    4.9</span> │ <span style=\"color: #008080; text-decoration-color: #008080\">     22</span> │ <span style=\"color: #008080; text-decoration-color: #008080\">     25</span> │ <span style=\"color: #008080; text-decoration-color: #008080\">    28</span> │ <span style=\"color: #008080; text-decoration-color: #008080\">    30</span> │ <span style=\"color: #008080; text-decoration-color: #008080\">    35</span> │ <span style=\"color: #008000; text-decoration-color: #008000\">▇▇▇▇ ▇ </span> │  │\n",
       "│ │ <span style=\"color: #af87ff; text-decoration-color: #af87ff\">Salary        </span> │ <span style=\"color: #008080; text-decoration-color: #008080\">  0</span> │ <span style=\"color: #008080; text-decoration-color: #008080\">     0</span> │ <span style=\"color: #008080; text-decoration-color: #008080\">  68000</span> │ <span style=\"color: #008080; text-decoration-color: #008080\">  10000</span> │ <span style=\"color: #008080; text-decoration-color: #008080\">  55000</span> │ <span style=\"color: #008080; text-decoration-color: #008080\">  60000</span> │ <span style=\"color: #008080; text-decoration-color: #008080\"> 70000</span> │ <span style=\"color: #008080; text-decoration-color: #008080\"> 75000</span> │ <span style=\"color: #008080; text-decoration-color: #008080\"> 80000</span> │ <span style=\"color: #008000; text-decoration-color: #008000\">▇▇ ▇▇▇ </span> │  │\n",
       "│ └────────────────┴─────┴────────┴─────────┴─────────┴─────────┴─────────┴────────┴────────┴────────┴─────────┘  │\n",
       "│ <span style=\"font-style: italic\">                                                    string                                                    </span>  │\n",
       "│ ┏━━━━━━━━━━━━━━━━━━━━━━━━━━━┳━━━━━━━━━┳━━━━━━━━━━━━┳━━━━━━━━━━━━━━━━━━━━━━━━━━━━━━┳━━━━━━━━━━━━━━━━━━━━━━━━━━┓  │\n",
       "│ ┃<span style=\"font-weight: bold\"> column_name               </span>┃<span style=\"font-weight: bold\"> NA      </span>┃<span style=\"font-weight: bold\"> NA %       </span>┃<span style=\"font-weight: bold\"> words per row                </span>┃<span style=\"font-weight: bold\"> total words              </span>┃  │\n",
       "│ ┡━━━━━━━━━━━━━━━━━━━━━━━━━━━╇━━━━━━━━━╇━━━━━━━━━━━━╇━━━━━━━━━━━━━━━━━━━━━━━━━━━━━━╇━━━━━━━━━━━━━━━━━━━━━━━━━━┩  │\n",
       "│ │ <span style=\"color: #af87ff; text-decoration-color: #af87ff\">Name                     </span> │ <span style=\"color: #008080; text-decoration-color: #008080\">      0</span> │ <span style=\"color: #008080; text-decoration-color: #008080\">         0</span> │ <span style=\"color: #008080; text-decoration-color: #008080\">                           1</span> │ <span style=\"color: #008080; text-decoration-color: #008080\">                       5</span> │  │\n",
       "│ │ <span style=\"color: #af87ff; text-decoration-color: #af87ff\">City                     </span> │ <span style=\"color: #008080; text-decoration-color: #008080\">      0</span> │ <span style=\"color: #008080; text-decoration-color: #008080\">         0</span> │ <span style=\"color: #008080; text-decoration-color: #008080\">                         1.6</span> │ <span style=\"color: #008080; text-decoration-color: #008080\">                       8</span> │  │\n",
       "│ └───────────────────────────┴─────────┴────────────┴──────────────────────────────┴──────────────────────────┘  │\n",
       "╰────────────────────────────────────────────────────── End ──────────────────────────────────────────────────────╯\n",
       "</pre>\n"
      ],
      "text/plain": [
       "╭──────────────────────────────────────────────── skimpy summary ─────────────────────────────────────────────────╮\n",
       "│ \u001b[3m         Data Summary         \u001b[0m \u001b[3m      Data Types       \u001b[0m                                                          │\n",
       "│ ┏━━━━━━━━━━━━━━━━━━━┳━━━━━━━━┓ ┏━━━━━━━━━━━━━┳━━━━━━━┓                                                          │\n",
       "│ ┃\u001b[1;36m \u001b[0m\u001b[1;36mdataframe        \u001b[0m\u001b[1;36m \u001b[0m┃\u001b[1;36m \u001b[0m\u001b[1;36mValues\u001b[0m\u001b[1;36m \u001b[0m┃ ┃\u001b[1;36m \u001b[0m\u001b[1;36mColumn Type\u001b[0m\u001b[1;36m \u001b[0m┃\u001b[1;36m \u001b[0m\u001b[1;36mCount\u001b[0m\u001b[1;36m \u001b[0m┃                                                          │\n",
       "│ ┡━━━━━━━━━━━━━━━━━━━╇━━━━━━━━┩ ┡━━━━━━━━━━━━━╇━━━━━━━┩                                                          │\n",
       "│ │ Number of rows    │ 5      │ │ string      │ 2     │                                                          │\n",
       "│ │ Number of columns │ 4      │ │ int32       │ 2     │                                                          │\n",
       "│ └───────────────────┴────────┘ └─────────────┴───────┘                                                          │\n",
       "│ \u001b[3m                                                    number                                                    \u001b[0m  │\n",
       "│ ┏━━━━━━━━━━━━━━━━┳━━━━━┳━━━━━━━━┳━━━━━━━━━┳━━━━━━━━━┳━━━━━━━━━┳━━━━━━━━━┳━━━━━━━━┳━━━━━━━━┳━━━━━━━━┳━━━━━━━━━┓  │\n",
       "│ ┃\u001b[1m \u001b[0m\u001b[1mcolumn_name   \u001b[0m\u001b[1m \u001b[0m┃\u001b[1m \u001b[0m\u001b[1mNA \u001b[0m\u001b[1m \u001b[0m┃\u001b[1m \u001b[0m\u001b[1mNA %  \u001b[0m\u001b[1m \u001b[0m┃\u001b[1m \u001b[0m\u001b[1mmean   \u001b[0m\u001b[1m \u001b[0m┃\u001b[1m \u001b[0m\u001b[1msd     \u001b[0m\u001b[1m \u001b[0m┃\u001b[1m \u001b[0m\u001b[1mp0     \u001b[0m\u001b[1m \u001b[0m┃\u001b[1m \u001b[0m\u001b[1mp25    \u001b[0m\u001b[1m \u001b[0m┃\u001b[1m \u001b[0m\u001b[1mp50   \u001b[0m\u001b[1m \u001b[0m┃\u001b[1m \u001b[0m\u001b[1mp75   \u001b[0m\u001b[1m \u001b[0m┃\u001b[1m \u001b[0m\u001b[1mp100  \u001b[0m\u001b[1m \u001b[0m┃\u001b[1m \u001b[0m\u001b[1mhist   \u001b[0m\u001b[1m \u001b[0m┃  │\n",
       "│ ┡━━━━━━━━━━━━━━━━╇━━━━━╇━━━━━━━━╇━━━━━━━━━╇━━━━━━━━━╇━━━━━━━━━╇━━━━━━━━━╇━━━━━━━━╇━━━━━━━━╇━━━━━━━━╇━━━━━━━━━┩  │\n",
       "│ │ \u001b[38;5;141mAge           \u001b[0m │ \u001b[36m  0\u001b[0m │ \u001b[36m     0\u001b[0m │ \u001b[36m     28\u001b[0m │ \u001b[36m    4.9\u001b[0m │ \u001b[36m     22\u001b[0m │ \u001b[36m     25\u001b[0m │ \u001b[36m    28\u001b[0m │ \u001b[36m    30\u001b[0m │ \u001b[36m    35\u001b[0m │ \u001b[32m▇▇▇▇ ▇ \u001b[0m │  │\n",
       "│ │ \u001b[38;5;141mSalary        \u001b[0m │ \u001b[36m  0\u001b[0m │ \u001b[36m     0\u001b[0m │ \u001b[36m  68000\u001b[0m │ \u001b[36m  10000\u001b[0m │ \u001b[36m  55000\u001b[0m │ \u001b[36m  60000\u001b[0m │ \u001b[36m 70000\u001b[0m │ \u001b[36m 75000\u001b[0m │ \u001b[36m 80000\u001b[0m │ \u001b[32m▇▇ ▇▇▇ \u001b[0m │  │\n",
       "│ └────────────────┴─────┴────────┴─────────┴─────────┴─────────┴─────────┴────────┴────────┴────────┴─────────┘  │\n",
       "│ \u001b[3m                                                    string                                                    \u001b[0m  │\n",
       "│ ┏━━━━━━━━━━━━━━━━━━━━━━━━━━━┳━━━━━━━━━┳━━━━━━━━━━━━┳━━━━━━━━━━━━━━━━━━━━━━━━━━━━━━┳━━━━━━━━━━━━━━━━━━━━━━━━━━┓  │\n",
       "│ ┃\u001b[1m \u001b[0m\u001b[1mcolumn_name              \u001b[0m\u001b[1m \u001b[0m┃\u001b[1m \u001b[0m\u001b[1mNA     \u001b[0m\u001b[1m \u001b[0m┃\u001b[1m \u001b[0m\u001b[1mNA %      \u001b[0m\u001b[1m \u001b[0m┃\u001b[1m \u001b[0m\u001b[1mwords per row               \u001b[0m\u001b[1m \u001b[0m┃\u001b[1m \u001b[0m\u001b[1mtotal words             \u001b[0m\u001b[1m \u001b[0m┃  │\n",
       "│ ┡━━━━━━━━━━━━━━━━━━━━━━━━━━━╇━━━━━━━━━╇━━━━━━━━━━━━╇━━━━━━━━━━━━━━━━━━━━━━━━━━━━━━╇━━━━━━━━━━━━━━━━━━━━━━━━━━┩  │\n",
       "│ │ \u001b[38;5;141mName                     \u001b[0m │ \u001b[36m      0\u001b[0m │ \u001b[36m         0\u001b[0m │ \u001b[36m                           1\u001b[0m │ \u001b[36m                       5\u001b[0m │  │\n",
       "│ │ \u001b[38;5;141mCity                     \u001b[0m │ \u001b[36m      0\u001b[0m │ \u001b[36m         0\u001b[0m │ \u001b[36m                         1.6\u001b[0m │ \u001b[36m                       8\u001b[0m │  │\n",
       "│ └───────────────────────────┴─────────┴────────────┴──────────────────────────────┴──────────────────────────┘  │\n",
       "╰────────────────────────────────────────────────────── End ──────────────────────────────────────────────────────╯\n"
      ]
     },
     "metadata": {},
     "output_type": "display_data"
    }
   ],
   "source": [
    "# Trick\n",
    "\n",
    "from skimpy import skim\n",
    "skim(df)"
   ]
  },
  {
   "cell_type": "code",
   "execution_count": 28,
   "id": "426f1b96",
   "metadata": {},
   "outputs": [
    {
     "name": "stdout",
     "output_type": "stream",
     "text": [
      "Collecting summarytools\n",
      "  Downloading summarytools-0.2.3.tar.gz (11 kB)\n",
      "  Installing build dependencies: started\n",
      "  Installing build dependencies: finished with status 'done'\n",
      "  Getting requirements to build wheel: started\n",
      "  Getting requirements to build wheel: finished with status 'done'\n",
      "  Preparing metadata (pyproject.toml): started\n",
      "  Preparing metadata (pyproject.toml): finished with status 'done'\n",
      "Requirement already satisfied: pandas>=1.4.0 in c:\\users\\acer\\anaconda31\\lib\\site-packages (from summarytools) (2.2.1)\n",
      "Requirement already satisfied: ipython>=7.20.0 in c:\\users\\acer\\anaconda31\\lib\\site-packages (from summarytools) (8.10.0)\n",
      "Requirement already satisfied: numpy>=1.18.5 in c:\\users\\acer\\anaconda31\\lib\\site-packages (from summarytools) (1.23.5)\n",
      "Requirement already satisfied: matplotlib>=3.3.0 in c:\\users\\acer\\anaconda31\\lib\\site-packages (from summarytools) (3.7.0)\n",
      "Requirement already satisfied: pickleshare in c:\\users\\acer\\anaconda31\\lib\\site-packages (from ipython>=7.20.0->summarytools) (0.7.5)\n",
      "Requirement already satisfied: backcall in c:\\users\\acer\\anaconda31\\lib\\site-packages (from ipython>=7.20.0->summarytools) (0.2.0)\n",
      "Requirement already satisfied: colorama in c:\\users\\acer\\anaconda31\\lib\\site-packages (from ipython>=7.20.0->summarytools) (0.4.6)\n",
      "Requirement already satisfied: decorator in c:\\users\\acer\\anaconda31\\lib\\site-packages (from ipython>=7.20.0->summarytools) (5.1.1)\n",
      "Requirement already satisfied: pygments>=2.4.0 in c:\\users\\acer\\anaconda31\\lib\\site-packages (from ipython>=7.20.0->summarytools) (2.11.2)\n",
      "Requirement already satisfied: traitlets>=5 in c:\\users\\acer\\anaconda31\\lib\\site-packages (from ipython>=7.20.0->summarytools) (5.7.1)\n",
      "Requirement already satisfied: jedi>=0.16 in c:\\users\\acer\\anaconda31\\lib\\site-packages (from ipython>=7.20.0->summarytools) (0.18.1)\n",
      "Requirement already satisfied: matplotlib-inline in c:\\users\\acer\\anaconda31\\lib\\site-packages (from ipython>=7.20.0->summarytools) (0.1.6)\n",
      "Requirement already satisfied: stack-data in c:\\users\\acer\\anaconda31\\lib\\site-packages (from ipython>=7.20.0->summarytools) (0.2.0)\n",
      "Requirement already satisfied: prompt-toolkit<3.1.0,>=3.0.30 in c:\\users\\acer\\anaconda31\\lib\\site-packages (from ipython>=7.20.0->summarytools) (3.0.36)\n",
      "Requirement already satisfied: contourpy>=1.0.1 in c:\\users\\acer\\anaconda31\\lib\\site-packages (from matplotlib>=3.3.0->summarytools) (1.0.5)\n",
      "Requirement already satisfied: pyparsing>=2.3.1 in c:\\users\\acer\\anaconda31\\lib\\site-packages (from matplotlib>=3.3.0->summarytools) (3.0.9)\n",
      "Requirement already satisfied: pillow>=6.2.0 in c:\\users\\acer\\anaconda31\\lib\\site-packages (from matplotlib>=3.3.0->summarytools) (9.4.0)\n",
      "Requirement already satisfied: python-dateutil>=2.7 in c:\\users\\acer\\anaconda31\\lib\\site-packages (from matplotlib>=3.3.0->summarytools) (2.8.2)\n",
      "Requirement already satisfied: cycler>=0.10 in c:\\users\\acer\\anaconda31\\lib\\site-packages (from matplotlib>=3.3.0->summarytools) (0.11.0)\n",
      "Requirement already satisfied: packaging>=20.0 in c:\\users\\acer\\anaconda31\\lib\\site-packages (from matplotlib>=3.3.0->summarytools) (22.0)\n",
      "Requirement already satisfied: kiwisolver>=1.0.1 in c:\\users\\acer\\anaconda31\\lib\\site-packages (from matplotlib>=3.3.0->summarytools) (1.4.4)\n",
      "Requirement already satisfied: fonttools>=4.22.0 in c:\\users\\acer\\anaconda31\\lib\\site-packages (from matplotlib>=3.3.0->summarytools) (4.25.0)\n",
      "Requirement already satisfied: tzdata>=2022.7 in c:\\users\\acer\\anaconda31\\lib\\site-packages (from pandas>=1.4.0->summarytools) (2024.1)\n",
      "Requirement already satisfied: pytz>=2020.1 in c:\\users\\acer\\anaconda31\\lib\\site-packages (from pandas>=1.4.0->summarytools) (2022.7)\n",
      "Requirement already satisfied: parso<0.9.0,>=0.8.0 in c:\\users\\acer\\anaconda31\\lib\\site-packages (from jedi>=0.16->ipython>=7.20.0->summarytools) (0.8.3)\n",
      "Requirement already satisfied: wcwidth in c:\\users\\acer\\anaconda31\\lib\\site-packages (from prompt-toolkit<3.1.0,>=3.0.30->ipython>=7.20.0->summarytools) (0.2.5)\n",
      "Requirement already satisfied: six>=1.5 in c:\\users\\acer\\anaconda31\\lib\\site-packages (from python-dateutil>=2.7->matplotlib>=3.3.0->summarytools) (1.16.0)\n",
      "Requirement already satisfied: pure-eval in c:\\users\\acer\\anaconda31\\lib\\site-packages (from stack-data->ipython>=7.20.0->summarytools) (0.2.2)\n",
      "Requirement already satisfied: asttokens in c:\\users\\acer\\anaconda31\\lib\\site-packages (from stack-data->ipython>=7.20.0->summarytools) (2.0.5)\n",
      "Requirement already satisfied: executing in c:\\users\\acer\\anaconda31\\lib\\site-packages (from stack-data->ipython>=7.20.0->summarytools) (0.8.3)\n",
      "Building wheels for collected packages: summarytools\n",
      "  Building wheel for summarytools (pyproject.toml): started\n",
      "  Building wheel for summarytools (pyproject.toml): finished with status 'done'\n",
      "  Created wheel for summarytools: filename=summarytools-0.2.3-py3-none-any.whl size=8591 sha256=7f29c9481010d01e3c7f003880d52d59e199e49d5a49b471a273a39d0026efbb\n",
      "  Stored in directory: c:\\users\\acer\\appdata\\local\\pip\\cache\\wheels\\ff\\7b\\6e\\624b599b1395d48b1f8241ca2a8de2ac115e910a76a8e1c5e0\n",
      "Successfully built summarytools\n",
      "Installing collected packages: summarytools\n",
      "Successfully installed summarytools-0.2.3\n",
      "Note: you may need to restart the kernel to use updated packages.\n"
     ]
    },
    {
     "name": "stderr",
     "output_type": "stream",
     "text": [
      "WARNING: Ignoring invalid distribution -andas (c:\\users\\acer\\anaconda31\\lib\\site-packages)\n",
      "WARNING: Ignoring invalid distribution -andas (c:\\users\\acer\\anaconda31\\lib\\site-packages)\n",
      "WARNING: Ignoring invalid distribution -andas (c:\\users\\acer\\anaconda31\\lib\\site-packages)\n",
      "WARNING: Ignoring invalid distribution -andas (c:\\users\\acer\\anaconda31\\lib\\site-packages)\n",
      "WARNING: Ignoring invalid distribution -andas (c:\\users\\acer\\anaconda31\\lib\\site-packages)\n",
      "WARNING: Ignoring invalid distribution -andas (c:\\users\\acer\\anaconda31\\lib\\site-packages)\n",
      "WARNING: Ignoring invalid distribution -andas (c:\\users\\acer\\anaconda31\\lib\\site-packages)\n"
     ]
    }
   ],
   "source": [
    "pip install summarytools"
   ]
  },
  {
   "cell_type": "code",
   "execution_count": 29,
   "id": "fe534180",
   "metadata": {},
   "outputs": [],
   "source": [
    "from summarytools import dfSummary"
   ]
  },
  {
   "cell_type": "code",
   "execution_count": 30,
   "id": "b8315efc",
   "metadata": {},
   "outputs": [
    {
     "data": {
      "text/html": [
       "<style type=\"text/css\">\n",
       "#T_6396f thead>tr>th {\n",
       "  text-align: left;\n",
       "}\n",
       "#T_6396f_row0_col0, #T_6396f_row1_col0, #T_6396f_row2_col0, #T_6396f_row3_col0 {\n",
       "  text-align: left;\n",
       "  font-size: 12px;\n",
       "  vertical-align: middle;\n",
       "  width: 5%;\n",
       "  max-width: 50px;\n",
       "  min-width: 20px;\n",
       "}\n",
       "#T_6396f_row0_col1, #T_6396f_row1_col1, #T_6396f_row2_col1, #T_6396f_row3_col1 {\n",
       "  text-align: left;\n",
       "  font-size: 12px;\n",
       "  vertical-align: middle;\n",
       "  width: 15%;\n",
       "  max-width: 200px;\n",
       "  min-width: 100px;\n",
       "  word-break: break-word;\n",
       "}\n",
       "#T_6396f_row0_col2, #T_6396f_row1_col2, #T_6396f_row2_col2, #T_6396f_row3_col2 {\n",
       "  text-align: left;\n",
       "  font-size: 12px;\n",
       "  vertical-align: middle;\n",
       "  width: 30%;\n",
       "  min-width: 100px;\n",
       "}\n",
       "#T_6396f_row0_col3, #T_6396f_row1_col3, #T_6396f_row2_col3, #T_6396f_row3_col3 {\n",
       "  text-align: left;\n",
       "  font-size: 12px;\n",
       "  vertical-align: middle;\n",
       "  width: 25%;\n",
       "  min-width: 100px;\n",
       "}\n",
       "#T_6396f_row0_col4, #T_6396f_row1_col4, #T_6396f_row2_col4, #T_6396f_row3_col4 {\n",
       "  text-align: left;\n",
       "  font-size: 12px;\n",
       "  vertical-align: middle;\n",
       "  width: 20%;\n",
       "  min-width: 150px;\n",
       "}\n",
       "#T_6396f_row0_col5, #T_6396f_row1_col5, #T_6396f_row2_col5, #T_6396f_row3_col5 {\n",
       "  text-align: left;\n",
       "  font-size: 12px;\n",
       "  vertical-align: middle;\n",
       "  width: 10%;\n",
       "}\n",
       "</style>\n",
       "<table id=\"T_6396f\">\n",
       "  <caption><strong>Data Frame Summary</strong><br>df<br>Dimensions: 5 x 4<br>Duplicates: 0</caption>\n",
       "  <thead>\n",
       "    <tr>\n",
       "      <th id=\"T_6396f_level0_col0\" class=\"col_heading level0 col0\" >No</th>\n",
       "      <th id=\"T_6396f_level0_col1\" class=\"col_heading level0 col1\" >Variable</th>\n",
       "      <th id=\"T_6396f_level0_col2\" class=\"col_heading level0 col2\" >Stats / Values</th>\n",
       "      <th id=\"T_6396f_level0_col3\" class=\"col_heading level0 col3\" >Freqs / (% of Valid)</th>\n",
       "      <th id=\"T_6396f_level0_col4\" class=\"col_heading level0 col4\" >Graph</th>\n",
       "      <th id=\"T_6396f_level0_col5\" class=\"col_heading level0 col5\" >Missing</th>\n",
       "    </tr>\n",
       "  </thead>\n",
       "  <tbody>\n",
       "    <tr>\n",
       "      <td id=\"T_6396f_row0_col0\" class=\"data row0 col0\" >1</td>\n",
       "      <td id=\"T_6396f_row0_col1\" class=\"data row0 col1\" ><strong>Name</strong><br>[object]</td>\n",
       "      <td id=\"T_6396f_row0_col2\" class=\"data row0 col2\" >1. Alice<br>2. Bob<br>3. Charlie<br>4. David<br>5. Eva</td>\n",
       "      <td id=\"T_6396f_row0_col3\" class=\"data row0 col3\" >1 (20.0%)<br>1 (20.0%)<br>1 (20.0%)<br>1 (20.0%)<br>1 (20.0%)</td>\n",
       "      <td id=\"T_6396f_row0_col4\" class=\"data row0 col4\" ><img src = \"data:image/png;base64, iVBORw0KGgoAAAANSUhEUgAAAJsAAABzCAYAAACPdnBjAAAAOXRFWHRTb2Z0d2FyZQBNYXRwbG90bGliIHZlcnNpb24zLjcuMCwgaHR0cHM6Ly9tYXRwbG90bGliLm9yZy88F64QAAAACXBIWXMAAA9hAAAPYQGoP6dpAAAB2klEQVR4nO3bwWnjQACG0dFiwuYiYQwuxkVssVuEujHGOiQhF+WQHj4d/F4D48OHzZj5p33fBxT+HP0BeB1iIyM2MtMY432M8XbQ+d/7vn8edDax0+Vy+TfP8/mIw7dte0zT9F9wr+E0z/P5drt9LsvyVR78fD7/rut6vt/vb2MMsb2A0xhjLMvydb1ePw44//2AMzmICwIZsZERGxmxkREbGbGRERsZsZERGxmxkREbGbGRERuZ0xi/z33qg484k2Odtm17rOt6Hgc899m27THG+K7P5RiehZOZ7EapuCCQ8TNKxrqKjHUVGesqMi4IZMRGRmxkxEZGbGTERkZsZMRGRmxkxEZGbGTERkZsZKyryFhXkfEsnIx1FRkXBDJ+RslYV5GxriJjXUXGBYGM2MiIjYzYyIiNjNjIiI2M2MiIjYzYyIiNjNjIiI2MdRUZ6yoynoWTsa4i45uNjMELGYMXMgYvZPypS0ZsZMRGRmxkxEZGbGTERkZsZMRGRmxkxEZGbGTERkZsZKyryFhXkbFBIGNdRcY3GxnrKjLWVWSsq8j4U5eM2MiIjYzYyIiNjNjIiI2M2MiIjYzYyIiNjNjIiI2M2MhYV5GxriJjg0DGuoqMCwIZsZH5AccxDjdim9iuAAAAAElFTkSuQmCC\"></img></td>\n",
       "      <td id=\"T_6396f_row0_col5\" class=\"data row0 col5\" >0<br>(0.0%)</td>\n",
       "    </tr>\n",
       "    <tr>\n",
       "      <td id=\"T_6396f_row1_col0\" class=\"data row1 col0\" >2</td>\n",
       "      <td id=\"T_6396f_row1_col1\" class=\"data row1 col1\" ><strong>Age</strong><br>[int64]</td>\n",
       "      <td id=\"T_6396f_row1_col2\" class=\"data row1 col2\" >Mean (sd) : 28.0 (4.9)<br>min < med < max:<br>22.0 < 28.0 < 35.0<br>IQR (CV) : 5.0 (5.7)</td>\n",
       "      <td id=\"T_6396f_row1_col3\" class=\"data row1 col3\" >5 distinct values</td>\n",
       "      <td id=\"T_6396f_row1_col4\" class=\"data row1 col4\" ><img src = \"data:image/png;base64, iVBORw0KGgoAAAANSUhEUgAAAKoAAABGCAYAAABc8A97AAAAOXRFWHRTb2Z0d2FyZQBNYXRwbG90bGliIHZlcnNpb24zLjcuMCwgaHR0cHM6Ly9tYXRwbG90bGliLm9yZy88F64QAAAACXBIWXMAAA9hAAAPYQGoP6dpAAABn0lEQVR4nO3XQYriQACF4apGRDcJIngYD9GH7UN4G2nKxXQzoJnNrNs21TLzyPetk7xQ/ESs0zQV+N+9/OsXgO9Y3bug1rotpaxnPv/3NE0fM+9d5Hbnbtd2r2ee2Zeh1lq3+/3+dRiG3Zzly+XyXmt9m3NwS9zu3e3Z7vXsM7v3RV0Pw7A7Ho8f4zh+PjLcWtucTqfd+Xxel1LmHNoSt2fv/sB2r6ee2d2f/lJKGcfx83A4/Hpk/K/tjHsWv92x273d61ln5s8UEYRKBKESQahEECoRhEoEoRJBqEQQKhGESgShEkGoRBAqEYRKBKESQahEECoRhEoEoRJBqEQQKhGESgShEkGoRBAqEYRKBKESQahEECoRhEoEoRJBqEQQKhGESgShEkGoRBAqEYRKBKESQahEECoRhEoEoRJBqEQQKhGESgShEkGoRBAqEYRKBKESQahEECoRhEoEoRJBqEQQKhGESgShEkGoRBAqEYRKBKESYfWdi1prm0cf3FrbXK/XVSllqLU+/GKllOF2u60Wtj179we2e3Wd2b1r/gDCJsfsI5cIagAAAABJRU5ErkJggg==\"></img></td>\n",
       "      <td id=\"T_6396f_row1_col5\" class=\"data row1 col5\" >0<br>(0.0%)</td>\n",
       "    </tr>\n",
       "    <tr>\n",
       "      <td id=\"T_6396f_row2_col0\" class=\"data row2 col0\" >3</td>\n",
       "      <td id=\"T_6396f_row2_col1\" class=\"data row2 col1\" ><strong>City</strong><br>[object]</td>\n",
       "      <td id=\"T_6396f_row2_col2\" class=\"data row2 col2\" >1. New York<br>2. San Francisco<br>3. Los Angeles<br>4. Chicago<br>5. Miami</td>\n",
       "      <td id=\"T_6396f_row2_col3\" class=\"data row2 col3\" >1 (20.0%)<br>1 (20.0%)<br>1 (20.0%)<br>1 (20.0%)<br>1 (20.0%)</td>\n",
       "      <td id=\"T_6396f_row2_col4\" class=\"data row2 col4\" ><img src = \"data:image/png;base64, iVBORw0KGgoAAAANSUhEUgAAAJsAAABzCAYAAACPdnBjAAAAOXRFWHRTb2Z0d2FyZQBNYXRwbG90bGliIHZlcnNpb24zLjcuMCwgaHR0cHM6Ly9tYXRwbG90bGliLm9yZy88F64QAAAACXBIWXMAAA9hAAAPYQGoP6dpAAAB2klEQVR4nO3bwWnjQACG0dFiwuYiYQwuxkVssVuEujHGOiQhF+WQHj4d/F4D48OHzZj5p33fBxT+HP0BeB1iIyM2MtMY432M8XbQ+d/7vn8edDax0+Vy+TfP8/mIw7dte0zT9F9wr+E0z/P5drt9LsvyVR78fD7/rut6vt/vb2MMsb2A0xhjLMvydb1ePw44//2AMzmICwIZsZERGxmxkREbGbGRERsZsZERGxmxkREbGbGRERuZ0xi/z33qg484k2Odtm17rOt6Hgc899m27THG+K7P5RiehZOZ7EapuCCQ8TNKxrqKjHUVGesqMi4IZMRGRmxkxEZGbGTERkZsZMRGRmxkxEZGbGTERkZsZKyryFhXkfEsnIx1FRkXBDJ+RslYV5GxriJjXUXGBYGM2MiIjYzYyIiNjNjIiI2M2MiIjYzYyIiNjNjIiI2MdRUZ6yoynoWTsa4i45uNjMELGYMXMgYvZPypS0ZsZMRGRmxkxEZGbGTERkZsZMRGRmxkxEZGbGTERkZsZKyryFhXkbFBIGNdRcY3GxnrKjLWVWSsq8j4U5eM2MiIjYzYyIiNjNjIiI2M2MiIjYzYyIiNjNjIiI2M2MhYV5GxriJjg0DGuoqMCwIZsZH5AccxDjdim9iuAAAAAElFTkSuQmCC\"></img></td>\n",
       "      <td id=\"T_6396f_row2_col5\" class=\"data row2 col5\" >0<br>(0.0%)</td>\n",
       "    </tr>\n",
       "    <tr>\n",
       "      <td id=\"T_6396f_row3_col0\" class=\"data row3 col0\" >4</td>\n",
       "      <td id=\"T_6396f_row3_col1\" class=\"data row3 col1\" ><strong>Salary</strong><br>[int64]</td>\n",
       "      <td id=\"T_6396f_row3_col2\" class=\"data row3 col2\" >Mean (sd) : 68000.0 (10368.2)<br>min < med < max:<br>55000.0 < 70000.0 < 80000.0<br>IQR (CV) : 15000.0 (6.6)</td>\n",
       "      <td id=\"T_6396f_row3_col3\" class=\"data row3 col3\" >5 distinct values</td>\n",
       "      <td id=\"T_6396f_row3_col4\" class=\"data row3 col4\" ><img src = \"data:image/png;base64, iVBORw0KGgoAAAANSUhEUgAAAKoAAABGCAYAAABc8A97AAAAOXRFWHRTb2Z0d2FyZQBNYXRwbG90bGliIHZlcnNpb24zLjcuMCwgaHR0cHM6Ly9tYXRwbG90bGliLm9yZy88F64QAAAACXBIWXMAAA9hAAAPYQGoP6dpAAAB/ElEQVR4nO3XQW7aQBiG4W8sikxBthAKHKA3YMkhctgeghOw6KYrdkjIMsJJlMq4m6wDnmk1+aT3WTP+54dXIMIwDAK+uiL3BYBHTO69IIQwkzSNfP77MAyvkWezzs4lcWcpYe9/MLuQdIs8++m9Pw01hDBbrVbPVVUtYyZfLpcmhPAz5o3LOTuX1J2l+L1TZ/d9/63ruh+LxeJ3URR/xp6/d+9736jTqqqWu93uta7rtzGD27Yt9/v98nw+TyXFxJJzdi7RO0vJeyfNPh6Py8Ph8LTdbn9tNptmzNlH7n33p1+S6rp+W6/XL2OGf5hFnPkys3NJ2FlK3Dt2dtM0M0maz+f/5fPizxQsECosECosECosECosECosECosECosECosECosECosECosECosECosECosECosECosECosECosECosECosECosECosECosECosECosECosECosECosECosECosECosECosECosECosECosECosECosECosECosECosECosECosECosECosECosECosECosECosECosECosECosECosECosECosECosECosECosECosECosECosECosECosTB55Udu25dgHt21b9n0/kVSFEEZfTFJ1u90mmWbnEr2zlLx30uzr9VpKUtd15el0+j7m7CMz/wIl/r4WQlfmYgAAAABJRU5ErkJggg==\"></img></td>\n",
       "      <td id=\"T_6396f_row3_col5\" class=\"data row3 col5\" >0<br>(0.0%)</td>\n",
       "    </tr>\n",
       "  </tbody>\n",
       "</table>\n"
      ],
      "text/plain": [
       "<pandas.io.formats.style.Styler at 0x1f46392f0a0>"
      ]
     },
     "execution_count": 30,
     "metadata": {},
     "output_type": "execute_result"
    }
   ],
   "source": [
    "dfSummary(df)"
   ]
  },
  {
   "cell_type": "code",
   "execution_count": 31,
   "id": "31c9b1d0",
   "metadata": {},
   "outputs": [
    {
     "data": {
      "text/html": [
       "<div>\n",
       "<style scoped>\n",
       "    .dataframe tbody tr th:only-of-type {\n",
       "        vertical-align: middle;\n",
       "    }\n",
       "\n",
       "    .dataframe tbody tr th {\n",
       "        vertical-align: top;\n",
       "    }\n",
       "\n",
       "    .dataframe thead th {\n",
       "        text-align: right;\n",
       "    }\n",
       "</style>\n",
       "<table border=\"1\" class=\"dataframe\">\n",
       "  <thead>\n",
       "    <tr style=\"text-align: right;\">\n",
       "      <th></th>\n",
       "      <th>Name</th>\n",
       "      <th>Age</th>\n",
       "      <th>City</th>\n",
       "      <th>Salary</th>\n",
       "    </tr>\n",
       "  </thead>\n",
       "  <tbody>\n",
       "    <tr>\n",
       "      <th>0</th>\n",
       "      <td>Alice</td>\n",
       "      <td>25</td>\n",
       "      <td>New York</td>\n",
       "      <td>60000</td>\n",
       "    </tr>\n",
       "    <tr>\n",
       "      <th>1</th>\n",
       "      <td>Bob</td>\n",
       "      <td>30</td>\n",
       "      <td>San Francisco</td>\n",
       "      <td>80000</td>\n",
       "    </tr>\n",
       "    <tr>\n",
       "      <th>2</th>\n",
       "      <td>Charlie</td>\n",
       "      <td>22</td>\n",
       "      <td>Los Angeles</td>\n",
       "      <td>55000</td>\n",
       "    </tr>\n",
       "    <tr>\n",
       "      <th>3</th>\n",
       "      <td>David</td>\n",
       "      <td>35</td>\n",
       "      <td>Chicago</td>\n",
       "      <td>75000</td>\n",
       "    </tr>\n",
       "    <tr>\n",
       "      <th>4</th>\n",
       "      <td>Eva</td>\n",
       "      <td>28</td>\n",
       "      <td>Miami</td>\n",
       "      <td>70000</td>\n",
       "    </tr>\n",
       "  </tbody>\n",
       "</table>\n",
       "</div>"
      ],
      "text/plain": [
       "      Name  Age           City  Salary\n",
       "0    Alice   25       New York   60000\n",
       "1      Bob   30  San Francisco   80000\n",
       "2  Charlie   22    Los Angeles   55000\n",
       "3    David   35        Chicago   75000\n",
       "4      Eva   28          Miami   70000"
      ]
     },
     "execution_count": 31,
     "metadata": {},
     "output_type": "execute_result"
    }
   ],
   "source": [
    "df"
   ]
  },
  {
   "cell_type": "code",
   "execution_count": 39,
   "id": "89a95ed9",
   "metadata": {},
   "outputs": [
    {
     "data": {
      "text/html": [
       "<div>\n",
       "<style scoped>\n",
       "    .dataframe tbody tr th:only-of-type {\n",
       "        vertical-align: middle;\n",
       "    }\n",
       "\n",
       "    .dataframe tbody tr th {\n",
       "        vertical-align: top;\n",
       "    }\n",
       "\n",
       "    .dataframe thead th {\n",
       "        text-align: right;\n",
       "    }\n",
       "</style>\n",
       "<table border=\"1\" class=\"dataframe\">\n",
       "  <thead>\n",
       "    <tr style=\"text-align: right;\">\n",
       "      <th></th>\n",
       "      <th>Name</th>\n",
       "      <th>Age</th>\n",
       "      <th>City</th>\n",
       "      <th>Salary</th>\n",
       "    </tr>\n",
       "  </thead>\n",
       "  <tbody>\n",
       "    <tr>\n",
       "      <th>0</th>\n",
       "      <td>Alice</td>\n",
       "      <td>25</td>\n",
       "      <td>New York</td>\n",
       "      <td>60000</td>\n",
       "    </tr>\n",
       "    <tr>\n",
       "      <th>2</th>\n",
       "      <td>Charlie</td>\n",
       "      <td>22</td>\n",
       "      <td>Los Angeles</td>\n",
       "      <td>55000</td>\n",
       "    </tr>\n",
       "  </tbody>\n",
       "</table>\n",
       "</div>"
      ],
      "text/plain": [
       "      Name  Age         City  Salary\n",
       "0    Alice   25     New York   60000\n",
       "2  Charlie   22  Los Angeles   55000"
      ]
     },
     "execution_count": 39,
     "metadata": {},
     "output_type": "execute_result"
    }
   ],
   "source": [
    "# Filtering multiple columns with multiple city names\n",
    "filter_data = df[df['City'].isin(['Los Angeles','New York','ABC'])]\n",
    "filter_data"
   ]
  },
  {
   "cell_type": "code",
   "execution_count": 40,
   "id": "007cefdd",
   "metadata": {},
   "outputs": [
    {
     "data": {
      "text/html": [
       "<div>\n",
       "<style scoped>\n",
       "    .dataframe tbody tr th:only-of-type {\n",
       "        vertical-align: middle;\n",
       "    }\n",
       "\n",
       "    .dataframe tbody tr th {\n",
       "        vertical-align: top;\n",
       "    }\n",
       "\n",
       "    .dataframe thead th {\n",
       "        text-align: right;\n",
       "    }\n",
       "</style>\n",
       "<table border=\"1\" class=\"dataframe\">\n",
       "  <thead>\n",
       "    <tr style=\"text-align: right;\">\n",
       "      <th></th>\n",
       "      <th>Name</th>\n",
       "      <th>Age</th>\n",
       "      <th>City</th>\n",
       "      <th>Salary</th>\n",
       "    </tr>\n",
       "  </thead>\n",
       "  <tbody>\n",
       "    <tr>\n",
       "      <th>2</th>\n",
       "      <td>Charlie</td>\n",
       "      <td>22</td>\n",
       "      <td>Los Angeles</td>\n",
       "      <td>55000</td>\n",
       "    </tr>\n",
       "    <tr>\n",
       "      <th>4</th>\n",
       "      <td>Eva</td>\n",
       "      <td>28</td>\n",
       "      <td>Miami</td>\n",
       "      <td>70000</td>\n",
       "    </tr>\n",
       "  </tbody>\n",
       "</table>\n",
       "</div>"
      ],
      "text/plain": [
       "      Name  Age         City  Salary\n",
       "2  Charlie   22  Los Angeles   55000\n",
       "4      Eva   28        Miami   70000"
      ]
     },
     "execution_count": 40,
     "metadata": {},
     "output_type": "execute_result"
    }
   ],
   "source": [
    "df.query('City == (\"Los Angeles\",\"Miami\")')"
   ]
  },
  {
   "cell_type": "code",
   "execution_count": 41,
   "id": "be76a9a1",
   "metadata": {},
   "outputs": [
    {
     "data": {
      "text/html": [
       "<div>\n",
       "<style scoped>\n",
       "    .dataframe tbody tr th:only-of-type {\n",
       "        vertical-align: middle;\n",
       "    }\n",
       "\n",
       "    .dataframe tbody tr th {\n",
       "        vertical-align: top;\n",
       "    }\n",
       "\n",
       "    .dataframe thead th {\n",
       "        text-align: right;\n",
       "    }\n",
       "</style>\n",
       "<table border=\"1\" class=\"dataframe\">\n",
       "  <thead>\n",
       "    <tr style=\"text-align: right;\">\n",
       "      <th></th>\n",
       "      <th>Name</th>\n",
       "      <th>Age</th>\n",
       "      <th>City</th>\n",
       "      <th>Salary</th>\n",
       "    </tr>\n",
       "  </thead>\n",
       "  <tbody>\n",
       "    <tr>\n",
       "      <th>2</th>\n",
       "      <td>Charlie</td>\n",
       "      <td>22</td>\n",
       "      <td>Los Angeles</td>\n",
       "      <td>55000</td>\n",
       "    </tr>\n",
       "    <tr>\n",
       "      <th>4</th>\n",
       "      <td>Eva</td>\n",
       "      <td>28</td>\n",
       "      <td>Miami</td>\n",
       "      <td>70000</td>\n",
       "    </tr>\n",
       "  </tbody>\n",
       "</table>\n",
       "</div>"
      ],
      "text/plain": [
       "      Name  Age         City  Salary\n",
       "2  Charlie   22  Los Angeles   55000\n",
       "4      Eva   28        Miami   70000"
      ]
     },
     "execution_count": 41,
     "metadata": {},
     "output_type": "execute_result"
    }
   ],
   "source": [
    "df.query('City in (\"Los Angeles\",\"Miami\")')"
   ]
  },
  {
   "cell_type": "code",
   "execution_count": 43,
   "id": "00b59975",
   "metadata": {},
   "outputs": [
    {
     "data": {
      "text/html": [
       "<div>\n",
       "<style scoped>\n",
       "    .dataframe tbody tr th:only-of-type {\n",
       "        vertical-align: middle;\n",
       "    }\n",
       "\n",
       "    .dataframe tbody tr th {\n",
       "        vertical-align: top;\n",
       "    }\n",
       "\n",
       "    .dataframe thead th {\n",
       "        text-align: right;\n",
       "    }\n",
       "</style>\n",
       "<table border=\"1\" class=\"dataframe\">\n",
       "  <thead>\n",
       "    <tr style=\"text-align: right;\">\n",
       "      <th></th>\n",
       "      <th>Name</th>\n",
       "      <th>Age</th>\n",
       "      <th>City</th>\n",
       "      <th>Salary</th>\n",
       "    </tr>\n",
       "  </thead>\n",
       "  <tbody>\n",
       "    <tr>\n",
       "      <th>1</th>\n",
       "      <td>Bob</td>\n",
       "      <td>30</td>\n",
       "      <td>San Francisco</td>\n",
       "      <td>80000</td>\n",
       "    </tr>\n",
       "    <tr>\n",
       "      <th>3</th>\n",
       "      <td>David</td>\n",
       "      <td>35</td>\n",
       "      <td>Chicago</td>\n",
       "      <td>75000</td>\n",
       "    </tr>\n",
       "  </tbody>\n",
       "</table>\n",
       "</div>"
      ],
      "text/plain": [
       "    Name  Age           City  Salary\n",
       "1    Bob   30  San Francisco   80000\n",
       "3  David   35        Chicago   75000"
      ]
     },
     "execution_count": 43,
     "metadata": {},
     "output_type": "execute_result"
    }
   ],
   "source": [
    "age_threshold = 29\n",
    "df.query('Age > @age_threshold')"
   ]
  },
  {
   "cell_type": "code",
   "execution_count": 45,
   "id": "896ea250",
   "metadata": {},
   "outputs": [
    {
     "name": "stdout",
     "output_type": "stream",
     "text": [
      "    Name  Age           City  Salary\n",
      "1    Bob   30  San Francisco   80000\n",
      "3  David   35        Chicago   75000\n"
     ]
    }
   ],
   "source": [
    "print(df[df['Age'] > df['Age'].median()])"
   ]
  },
  {
   "cell_type": "code",
   "execution_count": 50,
   "id": "669c4bab",
   "metadata": {},
   "outputs": [
    {
     "data": {
      "text/html": [
       "<div>\n",
       "<style scoped>\n",
       "    .dataframe tbody tr th:only-of-type {\n",
       "        vertical-align: middle;\n",
       "    }\n",
       "\n",
       "    .dataframe tbody tr th {\n",
       "        vertical-align: top;\n",
       "    }\n",
       "\n",
       "    .dataframe thead th {\n",
       "        text-align: right;\n",
       "    }\n",
       "</style>\n",
       "<table border=\"1\" class=\"dataframe\">\n",
       "  <thead>\n",
       "    <tr style=\"text-align: right;\">\n",
       "      <th></th>\n",
       "      <th>Name</th>\n",
       "      <th>Age</th>\n",
       "      <th>City</th>\n",
       "      <th>Salary</th>\n",
       "    </tr>\n",
       "  </thead>\n",
       "  <tbody>\n",
       "    <tr>\n",
       "      <th>0</th>\n",
       "      <td>Alice</td>\n",
       "      <td>25</td>\n",
       "      <td>New York</td>\n",
       "      <td>60000</td>\n",
       "    </tr>\n",
       "    <tr>\n",
       "      <th>1</th>\n",
       "      <td>Bob</td>\n",
       "      <td>30</td>\n",
       "      <td>San Francisco</td>\n",
       "      <td>80000</td>\n",
       "    </tr>\n",
       "    <tr>\n",
       "      <th>2</th>\n",
       "      <td>Charlie</td>\n",
       "      <td>22</td>\n",
       "      <td>Los Angeles</td>\n",
       "      <td>55000</td>\n",
       "    </tr>\n",
       "  </tbody>\n",
       "</table>\n",
       "</div>"
      ],
      "text/plain": [
       "      Name  Age           City  Salary\n",
       "0    Alice   25       New York   60000\n",
       "1      Bob   30  San Francisco   80000\n",
       "2  Charlie   22    Los Angeles   55000"
      ]
     },
     "execution_count": 50,
     "metadata": {},
     "output_type": "execute_result"
    }
   ],
   "source": [
    "# Filter the rows where the length of city is greater than 7\n",
    "\n",
    "a = df[df['City'].apply(lambda x: len(x) > 7)]\n",
    "a"
   ]
  },
  {
   "cell_type": "code",
   "execution_count": 52,
   "id": "deb73645",
   "metadata": {},
   "outputs": [
    {
     "data": {
      "text/html": [
       "<div>\n",
       "<style scoped>\n",
       "    .dataframe tbody tr th:only-of-type {\n",
       "        vertical-align: middle;\n",
       "    }\n",
       "\n",
       "    .dataframe tbody tr th {\n",
       "        vertical-align: top;\n",
       "    }\n",
       "\n",
       "    .dataframe thead th {\n",
       "        text-align: right;\n",
       "    }\n",
       "</style>\n",
       "<table border=\"1\" class=\"dataframe\">\n",
       "  <thead>\n",
       "    <tr style=\"text-align: right;\">\n",
       "      <th></th>\n",
       "      <th>Name</th>\n",
       "      <th>Age</th>\n",
       "      <th>City</th>\n",
       "      <th>Salary</th>\n",
       "    </tr>\n",
       "  </thead>\n",
       "  <tbody>\n",
       "    <tr>\n",
       "      <th>0</th>\n",
       "      <td>Alice</td>\n",
       "      <td>25</td>\n",
       "      <td>New York</td>\n",
       "      <td>60000</td>\n",
       "    </tr>\n",
       "    <tr>\n",
       "      <th>1</th>\n",
       "      <td>Bob</td>\n",
       "      <td>30</td>\n",
       "      <td>San Francisco</td>\n",
       "      <td>80000</td>\n",
       "    </tr>\n",
       "    <tr>\n",
       "      <th>2</th>\n",
       "      <td>Charlie</td>\n",
       "      <td>22</td>\n",
       "      <td>Los Angeles</td>\n",
       "      <td>55000</td>\n",
       "    </tr>\n",
       "  </tbody>\n",
       "</table>\n",
       "</div>"
      ],
      "text/plain": [
       "      Name  Age           City  Salary\n",
       "0    Alice   25       New York   60000\n",
       "1      Bob   30  San Francisco   80000\n",
       "2  Charlie   22    Los Angeles   55000"
      ]
     },
     "execution_count": 52,
     "metadata": {},
     "output_type": "execute_result"
    }
   ],
   "source": [
    "df.query('City.str.len()>7')"
   ]
  },
  {
   "cell_type": "code",
   "execution_count": 53,
   "id": "80c5dbda",
   "metadata": {},
   "outputs": [
    {
     "data": {
      "text/html": [
       "<div>\n",
       "<style scoped>\n",
       "    .dataframe tbody tr th:only-of-type {\n",
       "        vertical-align: middle;\n",
       "    }\n",
       "\n",
       "    .dataframe tbody tr th {\n",
       "        vertical-align: top;\n",
       "    }\n",
       "\n",
       "    .dataframe thead th {\n",
       "        text-align: right;\n",
       "    }\n",
       "</style>\n",
       "<table border=\"1\" class=\"dataframe\">\n",
       "  <thead>\n",
       "    <tr style=\"text-align: right;\">\n",
       "      <th></th>\n",
       "      <th>Name</th>\n",
       "      <th>Age</th>\n",
       "      <th>City</th>\n",
       "      <th>Salary</th>\n",
       "    </tr>\n",
       "  </thead>\n",
       "  <tbody>\n",
       "    <tr>\n",
       "      <th>0</th>\n",
       "      <td>Alice</td>\n",
       "      <td>25</td>\n",
       "      <td>New York</td>\n",
       "      <td>60000</td>\n",
       "    </tr>\n",
       "    <tr>\n",
       "      <th>1</th>\n",
       "      <td>Bob</td>\n",
       "      <td>30</td>\n",
       "      <td>San Francisco</td>\n",
       "      <td>80000</td>\n",
       "    </tr>\n",
       "    <tr>\n",
       "      <th>2</th>\n",
       "      <td>Charlie</td>\n",
       "      <td>22</td>\n",
       "      <td>Los Angeles</td>\n",
       "      <td>55000</td>\n",
       "    </tr>\n",
       "  </tbody>\n",
       "</table>\n",
       "</div>"
      ],
      "text/plain": [
       "      Name  Age           City  Salary\n",
       "0    Alice   25       New York   60000\n",
       "1      Bob   30  San Francisco   80000\n",
       "2  Charlie   22    Los Angeles   55000"
      ]
     },
     "execution_count": 53,
     "metadata": {},
     "output_type": "execute_result"
    }
   ],
   "source": [
    "df[df['City'].str.len()>7]"
   ]
  },
  {
   "cell_type": "code",
   "execution_count": 90,
   "id": "7bfc59f5",
   "metadata": {},
   "outputs": [
    {
     "data": {
      "text/html": [
       "<div>\n",
       "<style scoped>\n",
       "    .dataframe tbody tr th:only-of-type {\n",
       "        vertical-align: middle;\n",
       "    }\n",
       "\n",
       "    .dataframe tbody tr th {\n",
       "        vertical-align: top;\n",
       "    }\n",
       "\n",
       "    .dataframe thead th {\n",
       "        text-align: right;\n",
       "    }\n",
       "</style>\n",
       "<table border=\"1\" class=\"dataframe\">\n",
       "  <thead>\n",
       "    <tr style=\"text-align: right;\">\n",
       "      <th></th>\n",
       "      <th>Brand</th>\n",
       "      <th>Year</th>\n",
       "      <th>Kms Driven</th>\n",
       "      <th>City</th>\n",
       "      <th>Mileage</th>\n",
       "    </tr>\n",
       "  </thead>\n",
       "  <tbody>\n",
       "    <tr>\n",
       "      <th>0</th>\n",
       "      <td>Maruti</td>\n",
       "      <td>2012</td>\n",
       "      <td>50000</td>\n",
       "      <td>Gurgaon</td>\n",
       "      <td>28</td>\n",
       "    </tr>\n",
       "    <tr>\n",
       "      <th>1</th>\n",
       "      <td>Hyundai</td>\n",
       "      <td>2014</td>\n",
       "      <td>30000</td>\n",
       "      <td>Delhi</td>\n",
       "      <td>27</td>\n",
       "    </tr>\n",
       "    <tr>\n",
       "      <th>2</th>\n",
       "      <td>Tata</td>\n",
       "      <td>2011</td>\n",
       "      <td>60000</td>\n",
       "      <td>Mumbai</td>\n",
       "      <td>25</td>\n",
       "    </tr>\n",
       "    <tr>\n",
       "      <th>3</th>\n",
       "      <td>Mahindra</td>\n",
       "      <td>2015</td>\n",
       "      <td>25000</td>\n",
       "      <td>Delhi</td>\n",
       "      <td>26</td>\n",
       "    </tr>\n",
       "    <tr>\n",
       "      <th>4</th>\n",
       "      <td>Maruti</td>\n",
       "      <td>2012</td>\n",
       "      <td>10000</td>\n",
       "      <td>Mumbai</td>\n",
       "      <td>28</td>\n",
       "    </tr>\n",
       "    <tr>\n",
       "      <th>5</th>\n",
       "      <td>Hyundai</td>\n",
       "      <td>2016</td>\n",
       "      <td>46000</td>\n",
       "      <td>Delhi</td>\n",
       "      <td>29</td>\n",
       "    </tr>\n",
       "    <tr>\n",
       "      <th>6</th>\n",
       "      <td>Renault</td>\n",
       "      <td>2014</td>\n",
       "      <td>31000</td>\n",
       "      <td>Mumbai</td>\n",
       "      <td>24</td>\n",
       "    </tr>\n",
       "    <tr>\n",
       "      <th>7</th>\n",
       "      <td>Tata</td>\n",
       "      <td>2018</td>\n",
       "      <td>15000</td>\n",
       "      <td>Chennai</td>\n",
       "      <td>21</td>\n",
       "    </tr>\n",
       "    <tr>\n",
       "      <th>8</th>\n",
       "      <td>Maruti</td>\n",
       "      <td>2019</td>\n",
       "      <td>12000</td>\n",
       "      <td>Ghaziabad</td>\n",
       "      <td>24</td>\n",
       "    </tr>\n",
       "  </tbody>\n",
       "</table>\n",
       "</div>"
      ],
      "text/plain": [
       "      Brand  Year  Kms Driven       City  Mileage\n",
       "0    Maruti  2012       50000    Gurgaon       28\n",
       "1   Hyundai  2014       30000      Delhi       27\n",
       "2      Tata  2011       60000     Mumbai       25\n",
       "3  Mahindra  2015       25000      Delhi       26\n",
       "4    Maruti  2012       10000     Mumbai       28\n",
       "5   Hyundai  2016       46000      Delhi       29\n",
       "6   Renault  2014       31000     Mumbai       24\n",
       "7      Tata  2018       15000    Chennai       21\n",
       "8    Maruti  2019       12000  Ghaziabad       24"
      ]
     },
     "metadata": {},
     "output_type": "display_data"
    }
   ],
   "source": [
    "# importing the module\n",
    "import pandas as pd\n",
    "# creating a sample dataframe\n",
    "data = pd.DataFrame({'Brand': ['Maruti', 'Hyundai', 'Tata',\n",
    "\t\t\t\t\t\t\t'Mahindra', 'Maruti', 'Hyundai',\n",
    "\t\t\t\t\t\t\t'Renault', 'Tata', 'Maruti'],\n",
    "\t\t\t\t\t'Year': [2012, 2014, 2011, 2015, 2012,\n",
    "\t\t\t\t\t\t\t2016, 2014, 2018, 2019],\n",
    "\t\t\t\t\t'Kms Driven': [50000, 30000, 60000,\n",
    "\t\t\t\t\t\t\t\t\t25000, 10000, 46000,\n",
    "\t\t\t\t\t\t\t\t\t31000, 15000, 12000],\n",
    "\t\t\t\t\t'City': ['Gurgaon', 'Delhi', 'Mumbai',\n",
    "\t\t\t\t\t\t\t'Delhi', 'Mumbai', 'Delhi',\n",
    "\t\t\t\t\t\t\t'Mumbai', 'Chennai', 'Ghaziabad'],\n",
    "\t\t\t\t\t'Mileage': [28, 27, 25, 26, 28,\n",
    "\t\t\t\t\t\t\t\t29, 24, 21, 24]})\n",
    "# displaying the DataFrame\n",
    "display(data)"
   ]
  },
  {
   "cell_type": "code",
   "execution_count": 91,
   "id": "8a617486",
   "metadata": {},
   "outputs": [
    {
     "data": {
      "text/html": [
       "<div>\n",
       "<style scoped>\n",
       "    .dataframe tbody tr th:only-of-type {\n",
       "        vertical-align: middle;\n",
       "    }\n",
       "\n",
       "    .dataframe tbody tr th {\n",
       "        vertical-align: top;\n",
       "    }\n",
       "\n",
       "    .dataframe thead th {\n",
       "        text-align: right;\n",
       "    }\n",
       "</style>\n",
       "<table border=\"1\" class=\"dataframe\">\n",
       "  <thead>\n",
       "    <tr style=\"text-align: right;\">\n",
       "      <th></th>\n",
       "      <th>Brand</th>\n",
       "      <th>Year</th>\n",
       "      <th>Kms Driven</th>\n",
       "      <th>City</th>\n",
       "      <th>Mileage</th>\n",
       "    </tr>\n",
       "  </thead>\n",
       "  <tbody>\n",
       "    <tr>\n",
       "      <th>0</th>\n",
       "      <td>Maruti</td>\n",
       "      <td>2012</td>\n",
       "      <td>50000</td>\n",
       "      <td>Gurgaon</td>\n",
       "      <td>28</td>\n",
       "    </tr>\n",
       "    <tr>\n",
       "      <th>1</th>\n",
       "      <td>Hyundai</td>\n",
       "      <td>2014</td>\n",
       "      <td>30000</td>\n",
       "      <td>Delhi</td>\n",
       "      <td>27</td>\n",
       "    </tr>\n",
       "    <tr>\n",
       "      <th>2</th>\n",
       "      <td>Tata</td>\n",
       "      <td>2011</td>\n",
       "      <td>60000</td>\n",
       "      <td>Mumbai</td>\n",
       "      <td>25</td>\n",
       "    </tr>\n",
       "    <tr>\n",
       "      <th>3</th>\n",
       "      <td>Mahindra</td>\n",
       "      <td>2015</td>\n",
       "      <td>25000</td>\n",
       "      <td>Delhi</td>\n",
       "      <td>26</td>\n",
       "    </tr>\n",
       "    <tr>\n",
       "      <th>4</th>\n",
       "      <td>Maruti</td>\n",
       "      <td>2012</td>\n",
       "      <td>10000</td>\n",
       "      <td>Mumbai</td>\n",
       "      <td>28</td>\n",
       "    </tr>\n",
       "    <tr>\n",
       "      <th>5</th>\n",
       "      <td>Hyundai</td>\n",
       "      <td>2016</td>\n",
       "      <td>46000</td>\n",
       "      <td>Delhi</td>\n",
       "      <td>29</td>\n",
       "    </tr>\n",
       "    <tr>\n",
       "      <th>6</th>\n",
       "      <td>Renault</td>\n",
       "      <td>2014</td>\n",
       "      <td>31000</td>\n",
       "      <td>Mumbai</td>\n",
       "      <td>24</td>\n",
       "    </tr>\n",
       "    <tr>\n",
       "      <th>7</th>\n",
       "      <td>Tata</td>\n",
       "      <td>2018</td>\n",
       "      <td>15000</td>\n",
       "      <td>Chennai</td>\n",
       "      <td>21</td>\n",
       "    </tr>\n",
       "    <tr>\n",
       "      <th>8</th>\n",
       "      <td>Maruti</td>\n",
       "      <td>2019</td>\n",
       "      <td>12000</td>\n",
       "      <td>Ghaziabad</td>\n",
       "      <td>24</td>\n",
       "    </tr>\n",
       "  </tbody>\n",
       "</table>\n",
       "</div>"
      ],
      "text/plain": [
       "      Brand  Year  Kms Driven       City  Mileage\n",
       "0    Maruti  2012       50000    Gurgaon       28\n",
       "1   Hyundai  2014       30000      Delhi       27\n",
       "2      Tata  2011       60000     Mumbai       25\n",
       "3  Mahindra  2015       25000      Delhi       26\n",
       "4    Maruti  2012       10000     Mumbai       28\n",
       "5   Hyundai  2016       46000      Delhi       29\n",
       "6   Renault  2014       31000     Mumbai       24\n",
       "7      Tata  2018       15000    Chennai       21\n",
       "8    Maruti  2019       12000  Ghaziabad       24"
      ]
     },
     "execution_count": 91,
     "metadata": {},
     "output_type": "execute_result"
    }
   ],
   "source": [
    "data"
   ]
  },
  {
   "cell_type": "code",
   "execution_count": 103,
   "id": "88bec62e",
   "metadata": {},
   "outputs": [
    {
     "data": {
      "text/html": [
       "<div>\n",
       "<style scoped>\n",
       "    .dataframe tbody tr th:only-of-type {\n",
       "        vertical-align: middle;\n",
       "    }\n",
       "\n",
       "    .dataframe tbody tr th {\n",
       "        vertical-align: top;\n",
       "    }\n",
       "\n",
       "    .dataframe thead th {\n",
       "        text-align: right;\n",
       "    }\n",
       "</style>\n",
       "<table border=\"1\" class=\"dataframe\">\n",
       "  <thead>\n",
       "    <tr style=\"text-align: right;\">\n",
       "      <th></th>\n",
       "      <th>Brand</th>\n",
       "      <th>Year</th>\n",
       "      <th>Kms Driven</th>\n",
       "      <th>Mileage</th>\n",
       "    </tr>\n",
       "  </thead>\n",
       "  <tbody>\n",
       "    <tr>\n",
       "      <th>0</th>\n",
       "      <td>Hyundai</td>\n",
       "      <td>4030</td>\n",
       "      <td>76000</td>\n",
       "      <td>56</td>\n",
       "    </tr>\n",
       "    <tr>\n",
       "      <th>1</th>\n",
       "      <td>Mahindra</td>\n",
       "      <td>2015</td>\n",
       "      <td>25000</td>\n",
       "      <td>26</td>\n",
       "    </tr>\n",
       "    <tr>\n",
       "      <th>2</th>\n",
       "      <td>Maruti</td>\n",
       "      <td>6043</td>\n",
       "      <td>72000</td>\n",
       "      <td>80</td>\n",
       "    </tr>\n",
       "    <tr>\n",
       "      <th>3</th>\n",
       "      <td>Renault</td>\n",
       "      <td>2014</td>\n",
       "      <td>31000</td>\n",
       "      <td>24</td>\n",
       "    </tr>\n",
       "    <tr>\n",
       "      <th>4</th>\n",
       "      <td>Tata</td>\n",
       "      <td>4029</td>\n",
       "      <td>75000</td>\n",
       "      <td>46</td>\n",
       "    </tr>\n",
       "  </tbody>\n",
       "</table>\n",
       "</div>"
      ],
      "text/plain": [
       "      Brand  Year  Kms Driven  Mileage\n",
       "0   Hyundai  4030       76000       56\n",
       "1  Mahindra  2015       25000       26\n",
       "2    Maruti  6043       72000       80\n",
       "3   Renault  2014       31000       24\n",
       "4      Tata  4029       75000       46"
      ]
     },
     "execution_count": 103,
     "metadata": {},
     "output_type": "execute_result"
    }
   ],
   "source": [
    "# Group by Function\n",
    "\n",
    "# data.groupby('Brand')['kms Driven'].sum().reset_index()\n",
    "\n",
    "d = data.groupby('Brand').sum('kms Driven').reset_index()\n",
    "d"
   ]
  },
  {
   "cell_type": "code",
   "execution_count": 104,
   "id": "2f586f7e",
   "metadata": {},
   "outputs": [
    {
     "data": {
      "text/html": [
       "<div>\n",
       "<style scoped>\n",
       "    .dataframe tbody tr th:only-of-type {\n",
       "        vertical-align: middle;\n",
       "    }\n",
       "\n",
       "    .dataframe tbody tr th {\n",
       "        vertical-align: top;\n",
       "    }\n",
       "\n",
       "    .dataframe thead th {\n",
       "        text-align: right;\n",
       "    }\n",
       "</style>\n",
       "<table border=\"1\" class=\"dataframe\">\n",
       "  <thead>\n",
       "    <tr style=\"text-align: right;\">\n",
       "      <th></th>\n",
       "      <th>product</th>\n",
       "      <th>category</th>\n",
       "      <th>price</th>\n",
       "      <th>quantity</th>\n",
       "    </tr>\n",
       "  </thead>\n",
       "  <tbody>\n",
       "    <tr>\n",
       "      <th>0</th>\n",
       "      <td>A</td>\n",
       "      <td>X</td>\n",
       "      <td>100</td>\n",
       "      <td>50</td>\n",
       "    </tr>\n",
       "    <tr>\n",
       "      <th>1</th>\n",
       "      <td>B</td>\n",
       "      <td>Y</td>\n",
       "      <td>150</td>\n",
       "      <td>30</td>\n",
       "    </tr>\n",
       "    <tr>\n",
       "      <th>2</th>\n",
       "      <td>A</td>\n",
       "      <td>X</td>\n",
       "      <td>120</td>\n",
       "      <td>40</td>\n",
       "    </tr>\n",
       "    <tr>\n",
       "      <th>3</th>\n",
       "      <td>B</td>\n",
       "      <td>Y</td>\n",
       "      <td>200</td>\n",
       "      <td>20</td>\n",
       "    </tr>\n",
       "    <tr>\n",
       "      <th>4</th>\n",
       "      <td>A</td>\n",
       "      <td>X</td>\n",
       "      <td>180</td>\n",
       "      <td>35</td>\n",
       "    </tr>\n",
       "  </tbody>\n",
       "</table>\n",
       "</div>"
      ],
      "text/plain": [
       "  product category  price  quantity\n",
       "0       A        X    100        50\n",
       "1       B        Y    150        30\n",
       "2       A        X    120        40\n",
       "3       B        Y    200        20\n",
       "4       A        X    180        35"
      ]
     },
     "execution_count": 104,
     "metadata": {},
     "output_type": "execute_result"
    }
   ],
   "source": [
    "\n",
    "import pandas as pd\n",
    "\n",
    " \n",
    "\n",
    "# Sample DataFrame\n",
    "\n",
    "data = {'product': ['A', 'B', 'A', 'B', 'A'],\n",
    "\n",
    "        'category': ['X', 'Y', 'X', 'Y', 'X'],\n",
    "\n",
    "        'price': [100, 150, 120, 200, 180],\n",
    "\n",
    "        'quantity': [50, 30, 40, 20, 35]}\n",
    "\n",
    " \n",
    "\n",
    "df = pd.DataFrame(data)\n",
    "\n",
    "df"
   ]
  },
  {
   "cell_type": "code",
   "execution_count": 105,
   "id": "0169fd73",
   "metadata": {},
   "outputs": [
    {
     "data": {
      "text/html": [
       "<div>\n",
       "<style scoped>\n",
       "    .dataframe tbody tr th:only-of-type {\n",
       "        vertical-align: middle;\n",
       "    }\n",
       "\n",
       "    .dataframe tbody tr th {\n",
       "        vertical-align: top;\n",
       "    }\n",
       "\n",
       "    .dataframe thead th {\n",
       "        text-align: right;\n",
       "    }\n",
       "</style>\n",
       "<table border=\"1\" class=\"dataframe\">\n",
       "  <thead>\n",
       "    <tr style=\"text-align: right;\">\n",
       "      <th></th>\n",
       "      <th>product</th>\n",
       "      <th>category</th>\n",
       "      <th>price</th>\n",
       "      <th>quantity</th>\n",
       "    </tr>\n",
       "  </thead>\n",
       "  <tbody>\n",
       "    <tr>\n",
       "      <th>0</th>\n",
       "      <td>A</td>\n",
       "      <td>X</td>\n",
       "      <td>100</td>\n",
       "      <td>50</td>\n",
       "    </tr>\n",
       "    <tr>\n",
       "      <th>1</th>\n",
       "      <td>B</td>\n",
       "      <td>Y</td>\n",
       "      <td>150</td>\n",
       "      <td>30</td>\n",
       "    </tr>\n",
       "    <tr>\n",
       "      <th>2</th>\n",
       "      <td>A</td>\n",
       "      <td>X</td>\n",
       "      <td>120</td>\n",
       "      <td>40</td>\n",
       "    </tr>\n",
       "    <tr>\n",
       "      <th>3</th>\n",
       "      <td>B</td>\n",
       "      <td>Y</td>\n",
       "      <td>200</td>\n",
       "      <td>20</td>\n",
       "    </tr>\n",
       "    <tr>\n",
       "      <th>4</th>\n",
       "      <td>A</td>\n",
       "      <td>X</td>\n",
       "      <td>180</td>\n",
       "      <td>35</td>\n",
       "    </tr>\n",
       "  </tbody>\n",
       "</table>\n",
       "</div>"
      ],
      "text/plain": [
       "  product category  price  quantity\n",
       "0       A        X    100        50\n",
       "1       B        Y    150        30\n",
       "2       A        X    120        40\n",
       "3       B        Y    200        20\n",
       "4       A        X    180        35"
      ]
     },
     "execution_count": 105,
     "metadata": {},
     "output_type": "execute_result"
    }
   ],
   "source": [
    "df"
   ]
  },
  {
   "cell_type": "code",
   "execution_count": 109,
   "id": "a8dd90b0",
   "metadata": {},
   "outputs": [
    {
     "data": {
      "text/html": [
       "<div>\n",
       "<style scoped>\n",
       "    .dataframe tbody tr th:only-of-type {\n",
       "        vertical-align: middle;\n",
       "    }\n",
       "\n",
       "    .dataframe tbody tr th {\n",
       "        vertical-align: top;\n",
       "    }\n",
       "\n",
       "    .dataframe thead th {\n",
       "        text-align: right;\n",
       "    }\n",
       "</style>\n",
       "<table border=\"1\" class=\"dataframe\">\n",
       "  <thead>\n",
       "    <tr style=\"text-align: right;\">\n",
       "      <th></th>\n",
       "      <th>category</th>\n",
       "      <th>price</th>\n",
       "    </tr>\n",
       "  </thead>\n",
       "  <tbody>\n",
       "    <tr>\n",
       "      <th>0</th>\n",
       "      <td>X</td>\n",
       "      <td>400</td>\n",
       "    </tr>\n",
       "    <tr>\n",
       "      <th>1</th>\n",
       "      <td>Y</td>\n",
       "      <td>350</td>\n",
       "    </tr>\n",
       "  </tbody>\n",
       "</table>\n",
       "</div>"
      ],
      "text/plain": [
       "  category  price\n",
       "0        X    400\n",
       "1        Y    350"
      ]
     },
     "execution_count": 109,
     "metadata": {},
     "output_type": "execute_result"
    }
   ],
   "source": [
    "# Price by category\n",
    "df.groupby('category')['price'].sum().reset_index()\n"
   ]
  },
  {
   "cell_type": "code",
   "execution_count": 117,
   "id": "b03321bc",
   "metadata": {},
   "outputs": [
    {
     "data": {
      "text/html": [
       "<div>\n",
       "<style scoped>\n",
       "    .dataframe tbody tr th:only-of-type {\n",
       "        vertical-align: middle;\n",
       "    }\n",
       "\n",
       "    .dataframe tbody tr th {\n",
       "        vertical-align: top;\n",
       "    }\n",
       "\n",
       "    .dataframe thead th {\n",
       "        text-align: right;\n",
       "    }\n",
       "</style>\n",
       "<table border=\"1\" class=\"dataframe\">\n",
       "  <thead>\n",
       "    <tr style=\"text-align: right;\">\n",
       "      <th></th>\n",
       "      <th>category</th>\n",
       "      <th>product</th>\n",
       "    </tr>\n",
       "  </thead>\n",
       "  <tbody>\n",
       "    <tr>\n",
       "      <th>0</th>\n",
       "      <td>X</td>\n",
       "      <td>3</td>\n",
       "    </tr>\n",
       "    <tr>\n",
       "      <th>1</th>\n",
       "      <td>Y</td>\n",
       "      <td>2</td>\n",
       "    </tr>\n",
       "  </tbody>\n",
       "</table>\n",
       "</div>"
      ],
      "text/plain": [
       "  category  product\n",
       "0        X        3\n",
       "1        Y        2"
      ]
     },
     "execution_count": 117,
     "metadata": {},
     "output_type": "execute_result"
    }
   ],
   "source": [
    "# Count of product by Category\n",
    "\n",
    "df.groupby('category')['product'].count().reset_index()"
   ]
  },
  {
   "cell_type": "code",
   "execution_count": 113,
   "id": "34d572ce",
   "metadata": {},
   "outputs": [
    {
     "data": {
      "text/html": [
       "<div>\n",
       "<style scoped>\n",
       "    .dataframe tbody tr th:only-of-type {\n",
       "        vertical-align: middle;\n",
       "    }\n",
       "\n",
       "    .dataframe tbody tr th {\n",
       "        vertical-align: top;\n",
       "    }\n",
       "\n",
       "    .dataframe thead th {\n",
       "        text-align: right;\n",
       "    }\n",
       "</style>\n",
       "<table border=\"1\" class=\"dataframe\">\n",
       "  <thead>\n",
       "    <tr style=\"text-align: right;\">\n",
       "      <th></th>\n",
       "      <th>category</th>\n",
       "      <th>price</th>\n",
       "    </tr>\n",
       "  </thead>\n",
       "  <tbody>\n",
       "    <tr>\n",
       "      <th>0</th>\n",
       "      <td>X</td>\n",
       "      <td>133.333333</td>\n",
       "    </tr>\n",
       "    <tr>\n",
       "      <th>1</th>\n",
       "      <td>Y</td>\n",
       "      <td>175.000000</td>\n",
       "    </tr>\n",
       "  </tbody>\n",
       "</table>\n",
       "</div>"
      ],
      "text/plain": [
       "  category       price\n",
       "0        X  133.333333\n",
       "1        Y  175.000000"
      ]
     },
     "execution_count": 113,
     "metadata": {},
     "output_type": "execute_result"
    }
   ],
   "source": [
    "# Average Price of each category\n",
    "\n",
    "df.groupby('category')['price'].mean().reset_index()"
   ]
  },
  {
   "cell_type": "code",
   "execution_count": 121,
   "id": "30f39f91",
   "metadata": {},
   "outputs": [],
   "source": [
    "#import pandas as pd\n",
    "# Sample DataFrame\n",
    "#data = {'A': [1, 2, 3, 4, 5],\n",
    "#        'B': ['a', 'b', 'c', 'd', 'e'],\n",
    "#        'C': [10.5, 20.3, 15.8, 7.2, 18.6]}\n",
    "#df = pd.DataFrame(data, index=['one', 'two', 'three', 'four', 'five'])\n",
    "#df"
   ]
  },
  {
   "cell_type": "code",
   "execution_count": 122,
   "id": "ff7ebdfe",
   "metadata": {},
   "outputs": [],
   "source": [
    "# iLoc and loc"
   ]
  },
  {
   "cell_type": "code",
   "execution_count": 128,
   "id": "0854f3f4",
   "metadata": {},
   "outputs": [],
   "source": [
    "data1 = pd.DataFrame({'Name': ['Alice', 'Bob', 'Charlie'],\n",
    "                     'Age': [25, 30, 35]})"
   ]
  },
  {
   "cell_type": "code",
   "execution_count": 129,
   "id": "2243b82a",
   "metadata": {},
   "outputs": [
    {
     "data": {
      "text/html": [
       "<div>\n",
       "<style scoped>\n",
       "    .dataframe tbody tr th:only-of-type {\n",
       "        vertical-align: middle;\n",
       "    }\n",
       "\n",
       "    .dataframe tbody tr th {\n",
       "        vertical-align: top;\n",
       "    }\n",
       "\n",
       "    .dataframe thead th {\n",
       "        text-align: right;\n",
       "    }\n",
       "</style>\n",
       "<table border=\"1\" class=\"dataframe\">\n",
       "  <thead>\n",
       "    <tr style=\"text-align: right;\">\n",
       "      <th></th>\n",
       "      <th>Name</th>\n",
       "      <th>Age</th>\n",
       "    </tr>\n",
       "  </thead>\n",
       "  <tbody>\n",
       "    <tr>\n",
       "      <th>0</th>\n",
       "      <td>Alice</td>\n",
       "      <td>25</td>\n",
       "    </tr>\n",
       "    <tr>\n",
       "      <th>1</th>\n",
       "      <td>Bob</td>\n",
       "      <td>30</td>\n",
       "    </tr>\n",
       "    <tr>\n",
       "      <th>2</th>\n",
       "      <td>Charlie</td>\n",
       "      <td>35</td>\n",
       "    </tr>\n",
       "  </tbody>\n",
       "</table>\n",
       "</div>"
      ],
      "text/plain": [
       "      Name  Age\n",
       "0    Alice   25\n",
       "1      Bob   30\n",
       "2  Charlie   35"
      ]
     },
     "execution_count": 129,
     "metadata": {},
     "output_type": "execute_result"
    }
   ],
   "source": [
    "data1"
   ]
  },
  {
   "cell_type": "code",
   "execution_count": 130,
   "id": "137304a6",
   "metadata": {},
   "outputs": [
    {
     "data": {
      "text/plain": [
       "Name    Alice\n",
       "Age        25\n",
       "Name: 0, dtype: object"
      ]
     },
     "execution_count": 130,
     "metadata": {},
     "output_type": "execute_result"
    }
   ],
   "source": [
    "data1.iloc[0]"
   ]
  },
  {
   "cell_type": "code",
   "execution_count": 136,
   "id": "f37cab8d",
   "metadata": {},
   "outputs": [
    {
     "data": {
      "text/plain": [
       "35"
      ]
     },
     "execution_count": 136,
     "metadata": {},
     "output_type": "execute_result"
    }
   ],
   "source": [
    "data1.iloc[2,1]"
   ]
  },
  {
   "cell_type": "code",
   "execution_count": 138,
   "id": "0941b9f4",
   "metadata": {},
   "outputs": [
    {
     "data": {
      "text/plain": [
       "'Bob'"
      ]
     },
     "execution_count": 138,
     "metadata": {},
     "output_type": "execute_result"
    }
   ],
   "source": [
    "data1.iloc[1,0]"
   ]
  },
  {
   "cell_type": "code",
   "execution_count": 140,
   "id": "f47c5580",
   "metadata": {},
   "outputs": [],
   "source": [
    "da1 = pd.DataFrame({'Name': ['Alice', 'Bob', 'Charlie'],\n",
    "                     'Age': [25, 30, 35],\n",
    "                     'City':['NY','SN','LA']})"
   ]
  },
  {
   "cell_type": "code",
   "execution_count": 141,
   "id": "c2b9ee09",
   "metadata": {},
   "outputs": [
    {
     "data": {
      "text/html": [
       "<div>\n",
       "<style scoped>\n",
       "    .dataframe tbody tr th:only-of-type {\n",
       "        vertical-align: middle;\n",
       "    }\n",
       "\n",
       "    .dataframe tbody tr th {\n",
       "        vertical-align: top;\n",
       "    }\n",
       "\n",
       "    .dataframe thead th {\n",
       "        text-align: right;\n",
       "    }\n",
       "</style>\n",
       "<table border=\"1\" class=\"dataframe\">\n",
       "  <thead>\n",
       "    <tr style=\"text-align: right;\">\n",
       "      <th></th>\n",
       "      <th>Name</th>\n",
       "      <th>Age</th>\n",
       "      <th>City</th>\n",
       "    </tr>\n",
       "  </thead>\n",
       "  <tbody>\n",
       "    <tr>\n",
       "      <th>0</th>\n",
       "      <td>Alice</td>\n",
       "      <td>25</td>\n",
       "      <td>NY</td>\n",
       "    </tr>\n",
       "    <tr>\n",
       "      <th>1</th>\n",
       "      <td>Bob</td>\n",
       "      <td>30</td>\n",
       "      <td>SN</td>\n",
       "    </tr>\n",
       "    <tr>\n",
       "      <th>2</th>\n",
       "      <td>Charlie</td>\n",
       "      <td>35</td>\n",
       "      <td>LA</td>\n",
       "    </tr>\n",
       "  </tbody>\n",
       "</table>\n",
       "</div>"
      ],
      "text/plain": [
       "      Name  Age City\n",
       "0    Alice   25   NY\n",
       "1      Bob   30   SN\n",
       "2  Charlie   35   LA"
      ]
     },
     "execution_count": 141,
     "metadata": {},
     "output_type": "execute_result"
    }
   ],
   "source": [
    "da1"
   ]
  },
  {
   "cell_type": "code",
   "execution_count": 142,
   "id": "9c10cf16",
   "metadata": {},
   "outputs": [
    {
     "data": {
      "text/html": [
       "<div>\n",
       "<style scoped>\n",
       "    .dataframe tbody tr th:only-of-type {\n",
       "        vertical-align: middle;\n",
       "    }\n",
       "\n",
       "    .dataframe tbody tr th {\n",
       "        vertical-align: top;\n",
       "    }\n",
       "\n",
       "    .dataframe thead th {\n",
       "        text-align: right;\n",
       "    }\n",
       "</style>\n",
       "<table border=\"1\" class=\"dataframe\">\n",
       "  <thead>\n",
       "    <tr style=\"text-align: right;\">\n",
       "      <th></th>\n",
       "      <th>Name</th>\n",
       "      <th>Age</th>\n",
       "      <th>City</th>\n",
       "    </tr>\n",
       "  </thead>\n",
       "  <tbody>\n",
       "    <tr>\n",
       "      <th>1</th>\n",
       "      <td>Bob</td>\n",
       "      <td>30</td>\n",
       "      <td>SN</td>\n",
       "    </tr>\n",
       "    <tr>\n",
       "      <th>2</th>\n",
       "      <td>Charlie</td>\n",
       "      <td>35</td>\n",
       "      <td>LA</td>\n",
       "    </tr>\n",
       "  </tbody>\n",
       "</table>\n",
       "</div>"
      ],
      "text/plain": [
       "      Name  Age City\n",
       "1      Bob   30   SN\n",
       "2  Charlie   35   LA"
      ]
     },
     "execution_count": 142,
     "metadata": {},
     "output_type": "execute_result"
    }
   ],
   "source": [
    "da1.iloc[1:]"
   ]
  },
  {
   "cell_type": "code",
   "execution_count": 144,
   "id": "231d439b",
   "metadata": {},
   "outputs": [],
   "source": [
    "#loc\n",
    "da1 = pd.DataFrame({'Name': ['Alice', 'Bob', 'Charlie'],\n",
    "                     'Age': [25, 30, 35],\n",
    "                     'City':['NY','SN','LA']})"
   ]
  },
  {
   "cell_type": "code",
   "execution_count": 148,
   "id": "a55ee214",
   "metadata": {},
   "outputs": [
    {
     "data": {
      "text/html": [
       "<div>\n",
       "<style scoped>\n",
       "    .dataframe tbody tr th:only-of-type {\n",
       "        vertical-align: middle;\n",
       "    }\n",
       "\n",
       "    .dataframe tbody tr th {\n",
       "        vertical-align: top;\n",
       "    }\n",
       "\n",
       "    .dataframe thead th {\n",
       "        text-align: right;\n",
       "    }\n",
       "</style>\n",
       "<table border=\"1\" class=\"dataframe\">\n",
       "  <thead>\n",
       "    <tr style=\"text-align: right;\">\n",
       "      <th></th>\n",
       "      <th>Name</th>\n",
       "      <th>Age</th>\n",
       "      <th>City</th>\n",
       "    </tr>\n",
       "  </thead>\n",
       "  <tbody>\n",
       "    <tr>\n",
       "      <th>2</th>\n",
       "      <td>Charlie</td>\n",
       "      <td>35</td>\n",
       "      <td>LA</td>\n",
       "    </tr>\n",
       "  </tbody>\n",
       "</table>\n",
       "</div>"
      ],
      "text/plain": [
       "      Name  Age City\n",
       "2  Charlie   35   LA"
      ]
     },
     "execution_count": 148,
     "metadata": {},
     "output_type": "execute_result"
    }
   ],
   "source": [
    "filtered_data = da1.loc[da1['Age'] > 30]\n",
    "filtered_data"
   ]
  },
  {
   "cell_type": "code",
   "execution_count": 149,
   "id": "0286a760",
   "metadata": {},
   "outputs": [
    {
     "data": {
      "text/html": [
       "<div>\n",
       "<style scoped>\n",
       "    .dataframe tbody tr th:only-of-type {\n",
       "        vertical-align: middle;\n",
       "    }\n",
       "\n",
       "    .dataframe tbody tr th {\n",
       "        vertical-align: top;\n",
       "    }\n",
       "\n",
       "    .dataframe thead th {\n",
       "        text-align: right;\n",
       "    }\n",
       "</style>\n",
       "<table border=\"1\" class=\"dataframe\">\n",
       "  <thead>\n",
       "    <tr style=\"text-align: right;\">\n",
       "      <th></th>\n",
       "      <th>Brand</th>\n",
       "      <th>Year</th>\n",
       "      <th>Kms Driven</th>\n",
       "      <th>City</th>\n",
       "      <th>Mileage</th>\n",
       "    </tr>\n",
       "  </thead>\n",
       "  <tbody>\n",
       "    <tr>\n",
       "      <th>0</th>\n",
       "      <td>Maruti</td>\n",
       "      <td>2012</td>\n",
       "      <td>50000</td>\n",
       "      <td>Gurgaon</td>\n",
       "      <td>28</td>\n",
       "    </tr>\n",
       "    <tr>\n",
       "      <th>1</th>\n",
       "      <td>Hyundai</td>\n",
       "      <td>2014</td>\n",
       "      <td>30000</td>\n",
       "      <td>Delhi</td>\n",
       "      <td>27</td>\n",
       "    </tr>\n",
       "    <tr>\n",
       "      <th>2</th>\n",
       "      <td>Tata</td>\n",
       "      <td>2011</td>\n",
       "      <td>60000</td>\n",
       "      <td>Mumbai</td>\n",
       "      <td>25</td>\n",
       "    </tr>\n",
       "    <tr>\n",
       "      <th>3</th>\n",
       "      <td>Mahindra</td>\n",
       "      <td>2015</td>\n",
       "      <td>25000</td>\n",
       "      <td>Delhi</td>\n",
       "      <td>26</td>\n",
       "    </tr>\n",
       "    <tr>\n",
       "      <th>4</th>\n",
       "      <td>Maruti</td>\n",
       "      <td>2012</td>\n",
       "      <td>10000</td>\n",
       "      <td>Mumbai</td>\n",
       "      <td>28</td>\n",
       "    </tr>\n",
       "    <tr>\n",
       "      <th>5</th>\n",
       "      <td>Hyundai</td>\n",
       "      <td>2016</td>\n",
       "      <td>46000</td>\n",
       "      <td>Delhi</td>\n",
       "      <td>29</td>\n",
       "    </tr>\n",
       "    <tr>\n",
       "      <th>6</th>\n",
       "      <td>Renault</td>\n",
       "      <td>2014</td>\n",
       "      <td>31000</td>\n",
       "      <td>Mumbai</td>\n",
       "      <td>24</td>\n",
       "    </tr>\n",
       "    <tr>\n",
       "      <th>7</th>\n",
       "      <td>Tata</td>\n",
       "      <td>2018</td>\n",
       "      <td>15000</td>\n",
       "      <td>Chennai</td>\n",
       "      <td>21</td>\n",
       "    </tr>\n",
       "    <tr>\n",
       "      <th>8</th>\n",
       "      <td>Maruti</td>\n",
       "      <td>2019</td>\n",
       "      <td>12000</td>\n",
       "      <td>Ghaziabad</td>\n",
       "      <td>24</td>\n",
       "    </tr>\n",
       "  </tbody>\n",
       "</table>\n",
       "</div>"
      ],
      "text/plain": [
       "      Brand  Year  Kms Driven       City  Mileage\n",
       "0    Maruti  2012       50000    Gurgaon       28\n",
       "1   Hyundai  2014       30000      Delhi       27\n",
       "2      Tata  2011       60000     Mumbai       25\n",
       "3  Mahindra  2015       25000      Delhi       26\n",
       "4    Maruti  2012       10000     Mumbai       28\n",
       "5   Hyundai  2016       46000      Delhi       29\n",
       "6   Renault  2014       31000     Mumbai       24\n",
       "7      Tata  2018       15000    Chennai       21\n",
       "8    Maruti  2019       12000  Ghaziabad       24"
      ]
     },
     "metadata": {},
     "output_type": "display_data"
    }
   ],
   "source": [
    "# importing the module\n",
    "import pandas as pd\n",
    "# creating a sample dataframe\n",
    "data = pd.DataFrame({'Brand': ['Maruti', 'Hyundai', 'Tata',\n",
    "\t\t\t\t\t\t\t'Mahindra', 'Maruti', 'Hyundai',\n",
    "\t\t\t\t\t\t\t'Renault', 'Tata', 'Maruti'],\n",
    "\t\t\t\t\t'Year': [2012, 2014, 2011, 2015, 2012,\n",
    "\t\t\t\t\t\t\t2016, 2014, 2018, 2019],\n",
    "\t\t\t\t\t'Kms Driven': [50000, 30000, 60000,\n",
    "\t\t\t\t\t\t\t\t\t25000, 10000, 46000,\n",
    "\t\t\t\t\t\t\t\t\t31000, 15000, 12000],\n",
    "\t\t\t\t\t'City': ['Gurgaon', 'Delhi', 'Mumbai',\n",
    "\t\t\t\t\t\t\t'Delhi', 'Mumbai', 'Delhi',\n",
    "\t\t\t\t\t\t\t'Mumbai', 'Chennai', 'Ghaziabad'],\n",
    "\t\t\t\t\t'Mileage': [28, 27, 25, 26, 28,\n",
    "\t\t\t\t\t\t\t\t29, 24, 21, 24]})\n",
    "# displaying the DataFrame\n",
    "display(data)"
   ]
  },
  {
   "cell_type": "code",
   "execution_count": 152,
   "id": "c4793971",
   "metadata": {},
   "outputs": [
    {
     "data": {
      "text/html": [
       "<div>\n",
       "<style scoped>\n",
       "    .dataframe tbody tr th:only-of-type {\n",
       "        vertical-align: middle;\n",
       "    }\n",
       "\n",
       "    .dataframe tbody tr th {\n",
       "        vertical-align: top;\n",
       "    }\n",
       "\n",
       "    .dataframe thead th {\n",
       "        text-align: right;\n",
       "    }\n",
       "</style>\n",
       "<table border=\"1\" class=\"dataframe\">\n",
       "  <thead>\n",
       "    <tr style=\"text-align: right;\">\n",
       "      <th></th>\n",
       "      <th>Brand</th>\n",
       "      <th>Year</th>\n",
       "      <th>Kms Driven</th>\n",
       "      <th>City</th>\n",
       "      <th>Mileage</th>\n",
       "    </tr>\n",
       "  </thead>\n",
       "  <tbody>\n",
       "    <tr>\n",
       "      <th>2</th>\n",
       "      <td>Tata</td>\n",
       "      <td>2011</td>\n",
       "      <td>60000</td>\n",
       "      <td>Mumbai</td>\n",
       "      <td>25</td>\n",
       "    </tr>\n",
       "    <tr>\n",
       "      <th>3</th>\n",
       "      <td>Mahindra</td>\n",
       "      <td>2015</td>\n",
       "      <td>25000</td>\n",
       "      <td>Delhi</td>\n",
       "      <td>26</td>\n",
       "    </tr>\n",
       "    <tr>\n",
       "      <th>4</th>\n",
       "      <td>Maruti</td>\n",
       "      <td>2012</td>\n",
       "      <td>10000</td>\n",
       "      <td>Mumbai</td>\n",
       "      <td>28</td>\n",
       "    </tr>\n",
       "    <tr>\n",
       "      <th>5</th>\n",
       "      <td>Hyundai</td>\n",
       "      <td>2016</td>\n",
       "      <td>46000</td>\n",
       "      <td>Delhi</td>\n",
       "      <td>29</td>\n",
       "    </tr>\n",
       "  </tbody>\n",
       "</table>\n",
       "</div>"
      ],
      "text/plain": [
       "      Brand  Year  Kms Driven    City  Mileage\n",
       "2      Tata  2011       60000  Mumbai       25\n",
       "3  Mahindra  2015       25000   Delhi       26\n",
       "4    Maruti  2012       10000  Mumbai       28\n",
       "5   Hyundai  2016       46000   Delhi       29"
      ]
     },
     "execution_count": 152,
     "metadata": {},
     "output_type": "execute_result"
    }
   ],
   "source": [
    "data.loc[2:5]"
   ]
  },
  {
   "cell_type": "code",
   "execution_count": 153,
   "id": "48d06423",
   "metadata": {},
   "outputs": [
    {
     "data": {
      "text/plain": [
       "2    Mumbai\n",
       "3     Delhi\n",
       "4    Mumbai\n",
       "5     Delhi\n",
       "Name: City, dtype: object"
      ]
     },
     "execution_count": 153,
     "metadata": {},
     "output_type": "execute_result"
    }
   ],
   "source": [
    "data.loc[2:5,'City']"
   ]
  },
  {
   "cell_type": "code",
   "execution_count": 154,
   "id": "a3d551a6",
   "metadata": {},
   "outputs": [
    {
     "data": {
      "text/html": [
       "<div>\n",
       "<style scoped>\n",
       "    .dataframe tbody tr th:only-of-type {\n",
       "        vertical-align: middle;\n",
       "    }\n",
       "\n",
       "    .dataframe tbody tr th {\n",
       "        vertical-align: top;\n",
       "    }\n",
       "\n",
       "    .dataframe thead th {\n",
       "        text-align: right;\n",
       "    }\n",
       "</style>\n",
       "<table border=\"1\" class=\"dataframe\">\n",
       "  <thead>\n",
       "    <tr style=\"text-align: right;\">\n",
       "      <th></th>\n",
       "      <th>A</th>\n",
       "      <th>B</th>\n",
       "      <th>C</th>\n",
       "    </tr>\n",
       "  </thead>\n",
       "  <tbody>\n",
       "    <tr>\n",
       "      <th>one</th>\n",
       "      <td>1</td>\n",
       "      <td>a</td>\n",
       "      <td>10.5</td>\n",
       "    </tr>\n",
       "    <tr>\n",
       "      <th>two</th>\n",
       "      <td>2</td>\n",
       "      <td>b</td>\n",
       "      <td>20.3</td>\n",
       "    </tr>\n",
       "    <tr>\n",
       "      <th>three</th>\n",
       "      <td>3</td>\n",
       "      <td>c</td>\n",
       "      <td>15.8</td>\n",
       "    </tr>\n",
       "    <tr>\n",
       "      <th>four</th>\n",
       "      <td>4</td>\n",
       "      <td>d</td>\n",
       "      <td>7.2</td>\n",
       "    </tr>\n",
       "    <tr>\n",
       "      <th>five</th>\n",
       "      <td>5</td>\n",
       "      <td>e</td>\n",
       "      <td>18.6</td>\n",
       "    </tr>\n",
       "  </tbody>\n",
       "</table>\n",
       "</div>"
      ],
      "text/plain": [
       "       A  B     C\n",
       "one    1  a  10.5\n",
       "two    2  b  20.3\n",
       "three  3  c  15.8\n",
       "four   4  d   7.2\n",
       "five   5  e  18.6"
      ]
     },
     "execution_count": 154,
     "metadata": {},
     "output_type": "execute_result"
    }
   ],
   "source": [
    "# Sample DataFrame\n",
    "data = {'A': [1, 2, 3, 4, 5],\n",
    "        'B': ['a', 'b', 'c', 'd', 'e'],\n",
    "        'C': [10.5, 20.3, 15.8, 7.2, 18.6]}\n",
    "df = pd.DataFrame(data, index=['one', 'two', 'three', 'four', 'five'])\n",
    "df"
   ]
  },
  {
   "cell_type": "code",
   "execution_count": 160,
   "id": "4e916fa3",
   "metadata": {},
   "outputs": [
    {
     "name": "stdout",
     "output_type": "stream",
     "text": [
      "Using loc: c\n",
      "Using iloc: c\n"
     ]
    }
   ],
   "source": [
    "# Using loc to select a specific row and column\n",
    "selected_value_loc = df.loc['three', 'B']\n",
    "print(f\"Using loc: {selected_value_loc}\")\n",
    "# Using iloc to select a specific row and column by numerical index\n",
    "selected_value_iloc = df.iloc[2, 1]\n",
    "print(f\"Using iloc: {selected_value_iloc}\")"
   ]
  },
  {
   "cell_type": "code",
   "execution_count": 161,
   "id": "bddd2168",
   "metadata": {},
   "outputs": [],
   "source": [
    "Customer = {\n",
    "    'Name': ['Alice', 'Aob', 'Aharlie', 'David', 'Eva'],\n",
    "    'Age': [25, 30, 22, 35, 28],\n",
    "    'City': ['New York', 'San Francisco', 'Los Angeles', 'Chicago', 'Miami'],\n",
    "    'Salary': [60000, 80000, 55000, 75000, 70000]\n",
    "}"
   ]
  },
  {
   "cell_type": "code",
   "execution_count": 162,
   "id": "353739d5",
   "metadata": {},
   "outputs": [
    {
     "data": {
      "text/plain": [
       "{'Name': ['Alice', 'Aob', 'Aharlie', 'David', 'Eva'],\n",
       " 'Age': [25, 30, 22, 35, 28],\n",
       " 'City': ['New York', 'San Francisco', 'Los Angeles', 'Chicago', 'Miami'],\n",
       " 'Salary': [60000, 80000, 55000, 75000, 70000]}"
      ]
     },
     "execution_count": 162,
     "metadata": {},
     "output_type": "execute_result"
    }
   ],
   "source": [
    "Customer"
   ]
  },
  {
   "cell_type": "code",
   "execution_count": 163,
   "id": "5444117f",
   "metadata": {},
   "outputs": [
    {
     "data": {
      "text/html": [
       "<div>\n",
       "<style scoped>\n",
       "    .dataframe tbody tr th:only-of-type {\n",
       "        vertical-align: middle;\n",
       "    }\n",
       "\n",
       "    .dataframe tbody tr th {\n",
       "        vertical-align: top;\n",
       "    }\n",
       "\n",
       "    .dataframe thead th {\n",
       "        text-align: right;\n",
       "    }\n",
       "</style>\n",
       "<table border=\"1\" class=\"dataframe\">\n",
       "  <thead>\n",
       "    <tr style=\"text-align: right;\">\n",
       "      <th></th>\n",
       "      <th>Name</th>\n",
       "      <th>Age</th>\n",
       "      <th>City</th>\n",
       "      <th>Salary</th>\n",
       "    </tr>\n",
       "  </thead>\n",
       "  <tbody>\n",
       "    <tr>\n",
       "      <th>0</th>\n",
       "      <td>Alice</td>\n",
       "      <td>25</td>\n",
       "      <td>New York</td>\n",
       "      <td>60000</td>\n",
       "    </tr>\n",
       "    <tr>\n",
       "      <th>1</th>\n",
       "      <td>Aob</td>\n",
       "      <td>30</td>\n",
       "      <td>San Francisco</td>\n",
       "      <td>80000</td>\n",
       "    </tr>\n",
       "    <tr>\n",
       "      <th>2</th>\n",
       "      <td>Aharlie</td>\n",
       "      <td>22</td>\n",
       "      <td>Los Angeles</td>\n",
       "      <td>55000</td>\n",
       "    </tr>\n",
       "    <tr>\n",
       "      <th>3</th>\n",
       "      <td>David</td>\n",
       "      <td>35</td>\n",
       "      <td>Chicago</td>\n",
       "      <td>75000</td>\n",
       "    </tr>\n",
       "    <tr>\n",
       "      <th>4</th>\n",
       "      <td>Eva</td>\n",
       "      <td>28</td>\n",
       "      <td>Miami</td>\n",
       "      <td>70000</td>\n",
       "    </tr>\n",
       "  </tbody>\n",
       "</table>\n",
       "</div>"
      ],
      "text/plain": [
       "      Name  Age           City  Salary\n",
       "0    Alice   25       New York   60000\n",
       "1      Aob   30  San Francisco   80000\n",
       "2  Aharlie   22    Los Angeles   55000\n",
       "3    David   35        Chicago   75000\n",
       "4      Eva   28          Miami   70000"
      ]
     },
     "execution_count": 163,
     "metadata": {},
     "output_type": "execute_result"
    }
   ],
   "source": [
    "df = pd.DataFrame(Customer)\n",
    "df"
   ]
  },
  {
   "cell_type": "code",
   "execution_count": 168,
   "id": "4fb3bd25",
   "metadata": {},
   "outputs": [
    {
     "data": {
      "text/plain": [
       "0     8\n",
       "1    13\n",
       "2    11\n",
       "3     7\n",
       "4     5\n",
       "Name: City, dtype: int64"
      ]
     },
     "execution_count": 168,
     "metadata": {},
     "output_type": "execute_result"
    }
   ],
   "source": [
    "# Give me the new col. with Length = Cities\n",
    "df['City'].apply(len)"
   ]
  },
  {
   "cell_type": "code",
   "execution_count": 177,
   "id": "1757a0b0",
   "metadata": {},
   "outputs": [
    {
     "data": {
      "text/plain": [
       "0    Senior\n",
       "1    Junior\n",
       "2    Senior\n",
       "3    Junior\n",
       "4    Junior\n",
       "Name: Salary, dtype: object"
      ]
     },
     "execution_count": 177,
     "metadata": {},
     "output_type": "execute_result"
    }
   ],
   "source": [
    "# Give me the col. if salary is less than 5500 then Junior\n",
    "df['Salary'].apply(lambda x: 'Junior' if x > 69000 else 'Senior')"
   ]
  },
  {
   "cell_type": "code",
   "execution_count": 185,
   "id": "303f8b77",
   "metadata": {},
   "outputs": [
    {
     "data": {
      "text/plain": [
       "0    M\n",
       "1    F\n",
       "2    F\n",
       "3    F\n",
       "4    M\n",
       "Name: Age, dtype: object"
      ]
     },
     "execution_count": 185,
     "metadata": {},
     "output_type": "execute_result"
    }
   ],
   "source": [
    "# Give the col. age is b/w 25 - 28 & salary 6000 - 7000 then 'M' else 'F'\n",
    "df['Age'].apply(lambda x: 'M' if 25 <= x <= 28 else 'F')"
   ]
  },
  {
   "cell_type": "code",
   "execution_count": 190,
   "id": "c04fccd4",
   "metadata": {},
   "outputs": [
    {
     "data": {
      "text/plain": [
       "0    F\n",
       "1    F\n",
       "2    F\n",
       "3    F\n",
       "4    F\n",
       "dtype: object"
      ]
     },
     "execution_count": 190,
     "metadata": {},
     "output_type": "execute_result"
    }
   ],
   "source": [
    "df.apply(lambda x: 'M' if 25 <= x['Age'] <= 28 and 6000 <= x['Salary'] <= 7000 else 'F', axis=1)"
   ]
  },
  {
   "cell_type": "code",
   "execution_count": 191,
   "id": "3644e211",
   "metadata": {},
   "outputs": [],
   "source": [
    "df['CityLength'] = df['City'].str.len()"
   ]
  },
  {
   "cell_type": "code",
   "execution_count": 192,
   "id": "7a0f777d",
   "metadata": {},
   "outputs": [
    {
     "data": {
      "text/html": [
       "<div>\n",
       "<style scoped>\n",
       "    .dataframe tbody tr th:only-of-type {\n",
       "        vertical-align: middle;\n",
       "    }\n",
       "\n",
       "    .dataframe tbody tr th {\n",
       "        vertical-align: top;\n",
       "    }\n",
       "\n",
       "    .dataframe thead th {\n",
       "        text-align: right;\n",
       "    }\n",
       "</style>\n",
       "<table border=\"1\" class=\"dataframe\">\n",
       "  <thead>\n",
       "    <tr style=\"text-align: right;\">\n",
       "      <th></th>\n",
       "      <th>Name</th>\n",
       "      <th>Age</th>\n",
       "      <th>City</th>\n",
       "      <th>Salary</th>\n",
       "      <th>CityLength</th>\n",
       "    </tr>\n",
       "  </thead>\n",
       "  <tbody>\n",
       "    <tr>\n",
       "      <th>0</th>\n",
       "      <td>Alice</td>\n",
       "      <td>25</td>\n",
       "      <td>New York</td>\n",
       "      <td>60000</td>\n",
       "      <td>8</td>\n",
       "    </tr>\n",
       "    <tr>\n",
       "      <th>1</th>\n",
       "      <td>Aob</td>\n",
       "      <td>30</td>\n",
       "      <td>San Francisco</td>\n",
       "      <td>80000</td>\n",
       "      <td>13</td>\n",
       "    </tr>\n",
       "    <tr>\n",
       "      <th>2</th>\n",
       "      <td>Aharlie</td>\n",
       "      <td>22</td>\n",
       "      <td>Los Angeles</td>\n",
       "      <td>55000</td>\n",
       "      <td>11</td>\n",
       "    </tr>\n",
       "    <tr>\n",
       "      <th>3</th>\n",
       "      <td>David</td>\n",
       "      <td>35</td>\n",
       "      <td>Chicago</td>\n",
       "      <td>75000</td>\n",
       "      <td>7</td>\n",
       "    </tr>\n",
       "    <tr>\n",
       "      <th>4</th>\n",
       "      <td>Eva</td>\n",
       "      <td>28</td>\n",
       "      <td>Miami</td>\n",
       "      <td>70000</td>\n",
       "      <td>5</td>\n",
       "    </tr>\n",
       "  </tbody>\n",
       "</table>\n",
       "</div>"
      ],
      "text/plain": [
       "      Name  Age           City  Salary  CityLength\n",
       "0    Alice   25       New York   60000           8\n",
       "1      Aob   30  San Francisco   80000          13\n",
       "2  Aharlie   22    Los Angeles   55000          11\n",
       "3    David   35        Chicago   75000           7\n",
       "4      Eva   28          Miami   70000           5"
      ]
     },
     "execution_count": 192,
     "metadata": {},
     "output_type": "execute_result"
    }
   ],
   "source": [
    "df"
   ]
  },
  {
   "cell_type": "code",
   "execution_count": null,
   "id": "ca1fbb64",
   "metadata": {},
   "outputs": [],
   "source": []
  },
  {
   "cell_type": "code",
   "execution_count": null,
   "id": "9f179311",
   "metadata": {},
   "outputs": [],
   "source": []
  }
 ],
 "metadata": {
  "kernelspec": {
   "display_name": "Python 3 (ipykernel)",
   "language": "python",
   "name": "python3"
  },
  "language_info": {
   "codemirror_mode": {
    "name": "ipython",
    "version": 3
   },
   "file_extension": ".py",
   "mimetype": "text/x-python",
   "name": "python",
   "nbconvert_exporter": "python",
   "pygments_lexer": "ipython3",
   "version": "3.10.9"
  }
 },
 "nbformat": 4,
 "nbformat_minor": 5
}
